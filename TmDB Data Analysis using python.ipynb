{
 "cells": [
  {
   "cell_type": "markdown",
   "id": "38bba2ed-4d23-4563-9557-902e161b38bd",
   "metadata": {},
   "source": [
    "# Background\n",
    "\n",
    "What can we say about the success of a movie before it is released? Are there certain companies (Pixar?) that have found a consistent formula? Given that major films costing over $100 million to produce can still flop, this question is more important than ever to the industry. Film aficionados might have different interests. Can we predict which films will be highly rated, whether or not they are a commercial success?\n",
    "\n",
    "In this analysis we will find out amswers to questions such as these with analysing the data given.\n",
    "\n",
    "The dataset source is: https://www.kaggle.com/datasets/tmdb/tmdb-movie-metadata"
   ]
  },
  {
   "cell_type": "markdown",
   "id": "526fc14d-2e33-4349-baaf-6490225388a8",
   "metadata": {},
   "source": [
    "# Questions to answer\n",
    "\n",
    "Based on the dataset we will be asking questions such as:\n",
    "\n",
    "Q1) What is the relationship of budget and revenue?  \n",
    "Q2) Which genres are popular with people?  \n",
    "Q3) Which director has the highest revenue under his/her belt?  \n",
    "Q4) Which is the most popular and highest revenue grossing actor?  \n",
    "Q5) Which year was the highest revenue and profit collection?  \n",
    "Q6) Do popularity affect movie revenue and profit?\n",
    "\n",
    "We will see if we can add more questions in this but will start by all these questions only"
   ]
  },
  {
   "cell_type": "markdown",
   "id": "0beb19f7-ce89-4cf1-ac4d-3b52300bfec5",
   "metadata": {},
   "source": [
    "# Flow of the code\n",
    "\n",
    "Flow of the code will be in following steps\n",
    "\n",
    "Step 1) Load and merge movies and credits dataset so we create a master dataframe.  \n",
    "Step 2) We will do basic data engineering where we will see if there are missing values, duplicates and other things and then will make changes accordingly.  \n",
    "Step 3) We will find out all the columns that we need for analysis and drop every other column that doesn't matter.  \n",
    "Step 4) For each column which we need to analyse, we will create a corresponding temporary dataframe to analyse and get out answers. For example, if we want to see how budget affects profitability, we will create a temporary budget dataframe inside which we will do all the chartings.  \n",
    "Step 5) After completing this, we will create a last section for text answers based on our observation of the data"
   ]
  },
  {
   "cell_type": "markdown",
   "id": "0c13a6c1-5ad5-4ccd-af79-7cf3e4d3d1af",
   "metadata": {},
   "source": [
    "## Step 1: Load and Merge"
   ]
  },
  {
   "cell_type": "code",
   "execution_count": 5,
   "id": "4b5009c3-7c56-42d7-9a01-49e95fe8ab8e",
   "metadata": {},
   "outputs": [],
   "source": [
    "#import necessary libraries\n",
    "import pandas as pd\n",
    "import numpy as np\n",
    "import matplotlib.pyplot as plt\n",
    "import seaborn as sns\n",
    "from warnings import filterwarnings\n",
    "filterwarnings('ignore')\n",
    "import json"
   ]
  },
  {
   "cell_type": "code",
   "execution_count": 6,
   "id": "31b24b33-746c-4b51-ad06-928e0dd8ed50",
   "metadata": {},
   "outputs": [],
   "source": [
    "#adding data to df\n",
    "df_movies = pd.read_csv(r'C:\\Users\\ACER\\Downloads\\Python Projects\\IMDB Movies\\tmdb_5000_movies.csv', parse_dates=['release_date'], dayfirst=True)\n",
    "df_credits = pd.read_csv(r'C:\\Users\\ACER\\Downloads\\Python Projects\\IMDB Movies\\tmdb_5000_credits.csv')"
   ]
  },
  {
   "cell_type": "code",
   "execution_count": 7,
   "id": "c962c977-1b77-49bf-9ed0-c9dcd149a3db",
   "metadata": {},
   "outputs": [],
   "source": [
    "#join the two tables\n",
    "df = df_movies.merge(right = df_credits, how = 'inner', left_on = 'id', right_on = 'movie_id')"
   ]
  },
  {
   "cell_type": "code",
   "execution_count": 8,
   "id": "f2f72722-5a15-46ce-84b0-7b2acea08ea3",
   "metadata": {},
   "outputs": [
    {
     "data": {
      "text/html": [
       "<div>\n",
       "<style scoped>\n",
       "    .dataframe tbody tr th:only-of-type {\n",
       "        vertical-align: middle;\n",
       "    }\n",
       "\n",
       "    .dataframe tbody tr th {\n",
       "        vertical-align: top;\n",
       "    }\n",
       "\n",
       "    .dataframe thead th {\n",
       "        text-align: right;\n",
       "    }\n",
       "</style>\n",
       "<table border=\"1\" class=\"dataframe\">\n",
       "  <thead>\n",
       "    <tr style=\"text-align: right;\">\n",
       "      <th></th>\n",
       "      <th>budget</th>\n",
       "      <th>genres</th>\n",
       "      <th>homepage</th>\n",
       "      <th>id</th>\n",
       "      <th>keywords</th>\n",
       "      <th>original_language</th>\n",
       "      <th>original_title</th>\n",
       "      <th>overview</th>\n",
       "      <th>popularity</th>\n",
       "      <th>production_companies</th>\n",
       "      <th>...</th>\n",
       "      <th>spoken_languages</th>\n",
       "      <th>status</th>\n",
       "      <th>tagline</th>\n",
       "      <th>title_x</th>\n",
       "      <th>vote_average</th>\n",
       "      <th>vote_count</th>\n",
       "      <th>movie_id</th>\n",
       "      <th>title_y</th>\n",
       "      <th>cast</th>\n",
       "      <th>crew</th>\n",
       "    </tr>\n",
       "  </thead>\n",
       "  <tbody>\n",
       "    <tr>\n",
       "      <th>0</th>\n",
       "      <td>237000000</td>\n",
       "      <td>[{\"id\": 28, \"name\": \"Action\"}, {\"id\": 12, \"nam...</td>\n",
       "      <td>http://www.avatarmovie.com/</td>\n",
       "      <td>19995</td>\n",
       "      <td>[{\"id\": 1463, \"name\": \"culture clash\"}, {\"id\":...</td>\n",
       "      <td>en</td>\n",
       "      <td>Avatar</td>\n",
       "      <td>In the 22nd century, a paraplegic Marine is di...</td>\n",
       "      <td>150.437577</td>\n",
       "      <td>[{\"name\": \"Ingenious Film Partners\", \"id\": 289...</td>\n",
       "      <td>...</td>\n",
       "      <td>[{\"iso_639_1\": \"en\", \"name\": \"English\"}, {\"iso...</td>\n",
       "      <td>Released</td>\n",
       "      <td>Enter the World of Pandora.</td>\n",
       "      <td>Avatar</td>\n",
       "      <td>7.2</td>\n",
       "      <td>11800</td>\n",
       "      <td>19995</td>\n",
       "      <td>Avatar</td>\n",
       "      <td>[{\"cast_id\": 242, \"character\": \"Jake Sully\", \"...</td>\n",
       "      <td>[{\"credit_id\": \"52fe48009251416c750aca23\", \"de...</td>\n",
       "    </tr>\n",
       "    <tr>\n",
       "      <th>1</th>\n",
       "      <td>300000000</td>\n",
       "      <td>[{\"id\": 12, \"name\": \"Adventure\"}, {\"id\": 14, \"...</td>\n",
       "      <td>http://disney.go.com/disneypictures/pirates/</td>\n",
       "      <td>285</td>\n",
       "      <td>[{\"id\": 270, \"name\": \"ocean\"}, {\"id\": 726, \"na...</td>\n",
       "      <td>en</td>\n",
       "      <td>Pirates of the Caribbean: At World's End</td>\n",
       "      <td>Captain Barbossa, long believed to be dead, ha...</td>\n",
       "      <td>139.082615</td>\n",
       "      <td>[{\"name\": \"Walt Disney Pictures\", \"id\": 2}, {\"...</td>\n",
       "      <td>...</td>\n",
       "      <td>[{\"iso_639_1\": \"en\", \"name\": \"English\"}]</td>\n",
       "      <td>Released</td>\n",
       "      <td>At the end of the world, the adventure begins.</td>\n",
       "      <td>Pirates of the Caribbean: At World's End</td>\n",
       "      <td>6.9</td>\n",
       "      <td>4500</td>\n",
       "      <td>285</td>\n",
       "      <td>Pirates of the Caribbean: At World's End</td>\n",
       "      <td>[{\"cast_id\": 4, \"character\": \"Captain Jack Spa...</td>\n",
       "      <td>[{\"credit_id\": \"52fe4232c3a36847f800b579\", \"de...</td>\n",
       "    </tr>\n",
       "    <tr>\n",
       "      <th>2</th>\n",
       "      <td>245000000</td>\n",
       "      <td>[{\"id\": 28, \"name\": \"Action\"}, {\"id\": 12, \"nam...</td>\n",
       "      <td>http://www.sonypictures.com/movies/spectre/</td>\n",
       "      <td>206647</td>\n",
       "      <td>[{\"id\": 470, \"name\": \"spy\"}, {\"id\": 818, \"name...</td>\n",
       "      <td>en</td>\n",
       "      <td>Spectre</td>\n",
       "      <td>A cryptic message from Bond’s past sends him o...</td>\n",
       "      <td>107.376788</td>\n",
       "      <td>[{\"name\": \"Columbia Pictures\", \"id\": 5}, {\"nam...</td>\n",
       "      <td>...</td>\n",
       "      <td>[{\"iso_639_1\": \"fr\", \"name\": \"Fran\\u00e7ais\"},...</td>\n",
       "      <td>Released</td>\n",
       "      <td>A Plan No One Escapes</td>\n",
       "      <td>Spectre</td>\n",
       "      <td>6.3</td>\n",
       "      <td>4466</td>\n",
       "      <td>206647</td>\n",
       "      <td>Spectre</td>\n",
       "      <td>[{\"cast_id\": 1, \"character\": \"James Bond\", \"cr...</td>\n",
       "      <td>[{\"credit_id\": \"54805967c3a36829b5002c41\", \"de...</td>\n",
       "    </tr>\n",
       "  </tbody>\n",
       "</table>\n",
       "<p>3 rows × 24 columns</p>\n",
       "</div>"
      ],
      "text/plain": [
       "      budget                                             genres  \\\n",
       "0  237000000  [{\"id\": 28, \"name\": \"Action\"}, {\"id\": 12, \"nam...   \n",
       "1  300000000  [{\"id\": 12, \"name\": \"Adventure\"}, {\"id\": 14, \"...   \n",
       "2  245000000  [{\"id\": 28, \"name\": \"Action\"}, {\"id\": 12, \"nam...   \n",
       "\n",
       "                                       homepage      id  \\\n",
       "0                   http://www.avatarmovie.com/   19995   \n",
       "1  http://disney.go.com/disneypictures/pirates/     285   \n",
       "2   http://www.sonypictures.com/movies/spectre/  206647   \n",
       "\n",
       "                                            keywords original_language  \\\n",
       "0  [{\"id\": 1463, \"name\": \"culture clash\"}, {\"id\":...                en   \n",
       "1  [{\"id\": 270, \"name\": \"ocean\"}, {\"id\": 726, \"na...                en   \n",
       "2  [{\"id\": 470, \"name\": \"spy\"}, {\"id\": 818, \"name...                en   \n",
       "\n",
       "                             original_title  \\\n",
       "0                                    Avatar   \n",
       "1  Pirates of the Caribbean: At World's End   \n",
       "2                                   Spectre   \n",
       "\n",
       "                                            overview  popularity  \\\n",
       "0  In the 22nd century, a paraplegic Marine is di...  150.437577   \n",
       "1  Captain Barbossa, long believed to be dead, ha...  139.082615   \n",
       "2  A cryptic message from Bond’s past sends him o...  107.376788   \n",
       "\n",
       "                                production_companies  ...  \\\n",
       "0  [{\"name\": \"Ingenious Film Partners\", \"id\": 289...  ...   \n",
       "1  [{\"name\": \"Walt Disney Pictures\", \"id\": 2}, {\"...  ...   \n",
       "2  [{\"name\": \"Columbia Pictures\", \"id\": 5}, {\"nam...  ...   \n",
       "\n",
       "                                    spoken_languages    status  \\\n",
       "0  [{\"iso_639_1\": \"en\", \"name\": \"English\"}, {\"iso...  Released   \n",
       "1           [{\"iso_639_1\": \"en\", \"name\": \"English\"}]  Released   \n",
       "2  [{\"iso_639_1\": \"fr\", \"name\": \"Fran\\u00e7ais\"},...  Released   \n",
       "\n",
       "                                          tagline  \\\n",
       "0                     Enter the World of Pandora.   \n",
       "1  At the end of the world, the adventure begins.   \n",
       "2                           A Plan No One Escapes   \n",
       "\n",
       "                                    title_x vote_average vote_count movie_id  \\\n",
       "0                                    Avatar          7.2      11800    19995   \n",
       "1  Pirates of the Caribbean: At World's End          6.9       4500      285   \n",
       "2                                   Spectre          6.3       4466   206647   \n",
       "\n",
       "                                    title_y  \\\n",
       "0                                    Avatar   \n",
       "1  Pirates of the Caribbean: At World's End   \n",
       "2                                   Spectre   \n",
       "\n",
       "                                                cast  \\\n",
       "0  [{\"cast_id\": 242, \"character\": \"Jake Sully\", \"...   \n",
       "1  [{\"cast_id\": 4, \"character\": \"Captain Jack Spa...   \n",
       "2  [{\"cast_id\": 1, \"character\": \"James Bond\", \"cr...   \n",
       "\n",
       "                                                crew  \n",
       "0  [{\"credit_id\": \"52fe48009251416c750aca23\", \"de...  \n",
       "1  [{\"credit_id\": \"52fe4232c3a36847f800b579\", \"de...  \n",
       "2  [{\"credit_id\": \"54805967c3a36829b5002c41\", \"de...  \n",
       "\n",
       "[3 rows x 24 columns]"
      ]
     },
     "execution_count": 8,
     "metadata": {},
     "output_type": "execute_result"
    }
   ],
   "source": [
    "df.head(3)"
   ]
  },
  {
   "cell_type": "markdown",
   "id": "e6e3e483-1a3b-4135-9216-d5feaf8df54f",
   "metadata": {},
   "source": [
    "Now on the first look we can see that the dataframe has columns which have one single value in each row and there are column who seemingly have list and dictionaries in their values. We will explore this further."
   ]
  },
  {
   "cell_type": "markdown",
   "id": "991a8b8f-f102-44a3-bb31-34e7fdcc3e05",
   "metadata": {},
   "source": [
    "## Step 2 and 3: Data Engineering and Keeping relevant columns\n",
    "\n",
    "We will now make changes to data such as adding columns or deleting columns and filling null values or deleting duplicated."
   ]
  },
  {
   "cell_type": "code",
   "execution_count": 11,
   "id": "65da8df2-a3e9-4556-9312-251eddfdd4ae",
   "metadata": {},
   "outputs": [
    {
     "data": {
      "text/plain": [
       "budget                   0.000000\n",
       "genres                   0.000000\n",
       "homepage                64.355611\n",
       "id                       0.000000\n",
       "keywords                 0.000000\n",
       "original_language        0.000000\n",
       "original_title           0.000000\n",
       "overview                 0.062461\n",
       "popularity               0.000000\n",
       "production_companies     0.000000\n",
       "production_countries     0.000000\n",
       "release_date             0.020820\n",
       "revenue                  0.000000\n",
       "runtime                  0.041641\n",
       "spoken_languages         0.000000\n",
       "status                   0.000000\n",
       "tagline                 17.572351\n",
       "title_x                  0.000000\n",
       "vote_average             0.000000\n",
       "vote_count               0.000000\n",
       "movie_id                 0.000000\n",
       "title_y                  0.000000\n",
       "cast                     0.000000\n",
       "crew                     0.000000\n",
       "dtype: float64"
      ]
     },
     "execution_count": 11,
     "metadata": {},
     "output_type": "execute_result"
    }
   ],
   "source": [
    "# Check for null values\n",
    "\n",
    "df.isnull().sum()/len(df)*100\n",
    "\n",
    "#We have used this percentage style so as to understand if there might be a huge impact on missing values on our data. For now it doesnt seem like it"
   ]
  },
  {
   "cell_type": "code",
   "execution_count": 12,
   "id": "5d63f47a-0157-4fc9-8eaf-cf92a7609997",
   "metadata": {},
   "outputs": [],
   "source": [
    "# we will now delete columns which we do not need\n",
    "\n",
    "df.drop(['movie_id','homepage','tagline','overview','production_countries', 'original_title','status','spoken_languages'], axis=1, inplace=True)\n",
    "df.drop(['title_y'], axis=1, inplace=True)"
   ]
  },
  {
   "cell_type": "code",
   "execution_count": 13,
   "id": "b679f162-55ec-42f4-85bb-e6d1f3e7ae64",
   "metadata": {},
   "outputs": [],
   "source": [
    "# we will add columns to enhance our data such as profit and profit margin\n",
    "df['profit'] = df['revenue'] - df['budget']\n",
    "df['profit_margin'] = df['profit']/df['revenue']*100"
   ]
  },
  {
   "cell_type": "code",
   "execution_count": 14,
   "id": "44b9817c-8b8d-4ec1-ba43-6a6f886514a0",
   "metadata": {},
   "outputs": [
    {
     "data": {
      "text/plain": [
       "budget                   0.000000\n",
       "genres                   0.000000\n",
       "id                       0.000000\n",
       "keywords                 0.000000\n",
       "original_language        0.000000\n",
       "popularity               0.000000\n",
       "production_companies     0.000000\n",
       "release_date             0.020820\n",
       "revenue                  0.000000\n",
       "runtime                  0.041641\n",
       "title_x                  0.000000\n",
       "vote_average             0.000000\n",
       "vote_count               0.000000\n",
       "cast                     0.000000\n",
       "crew                     0.000000\n",
       "profit                   0.000000\n",
       "profit_margin           18.530085\n",
       "dtype: float64"
      ]
     },
     "execution_count": 14,
     "metadata": {},
     "output_type": "execute_result"
    }
   ],
   "source": [
    "df.isnull().sum()/len(df)*100"
   ]
  },
  {
   "cell_type": "markdown",
   "id": "088a9dd0-cf24-48ee-a51f-15a5f62539e5",
   "metadata": {},
   "source": [
    "We see here that even though we have seemingly no null value in revenue, budget profit, there are null values in profit margin. This can be due to the fact that there could be zero revenue or movies with budget 0 (maybe they were cancelled) which has created this issue. To fix that we will fix that there should be no calculation using 0."
   ]
  },
  {
   "cell_type": "code",
   "execution_count": 16,
   "id": "ebe2c088-986e-4d98-84be-084967768ddf",
   "metadata": {},
   "outputs": [],
   "source": [
    "df['profit_margin_fixed'] = np.where(\n",
    "    df['revenue'] == 0,\n",
    "    0,  # or another default value\n",
    "    (df['profit']/df['revenue']) * 100\n",
    ")"
   ]
  },
  {
   "cell_type": "markdown",
   "id": "413fdfda-734c-4e5c-aef0-729c6d84c02e",
   "metadata": {},
   "source": [
    "df.isnull().sum()/len(df)*100"
   ]
  },
  {
   "cell_type": "markdown",
   "id": "23077aff-f972-4cc7-9669-9556bd759e62",
   "metadata": {},
   "source": [
    "We can now see that the fixed column has no null values as we have hardcoded 0 for any value which doesnt help us"
   ]
  },
  {
   "cell_type": "markdown",
   "id": "708aae8d-cbfe-436f-a2ba-a4970c5788a6",
   "metadata": {},
   "source": [
    "## Step 4: Analysis Based on the Questions"
   ]
  },
  {
   "cell_type": "markdown",
   "id": "afbb212f-c3ea-4e98-914d-592af5675498",
   "metadata": {},
   "source": [
    "Before we start on any questions we will lay a picture of the data that we currently have to see what kind of distribution we have in values"
   ]
  },
  {
   "cell_type": "code",
   "execution_count": 21,
   "id": "0a445a4a-645c-4791-9414-85f56094d1de",
   "metadata": {},
   "outputs": [
    {
     "data": {
      "text/html": [
       "<div>\n",
       "<style scoped>\n",
       "    .dataframe tbody tr th:only-of-type {\n",
       "        vertical-align: middle;\n",
       "    }\n",
       "\n",
       "    .dataframe tbody tr th {\n",
       "        vertical-align: top;\n",
       "    }\n",
       "\n",
       "    .dataframe thead th {\n",
       "        text-align: right;\n",
       "    }\n",
       "</style>\n",
       "<table border=\"1\" class=\"dataframe\">\n",
       "  <thead>\n",
       "    <tr style=\"text-align: right;\">\n",
       "      <th></th>\n",
       "      <th>count</th>\n",
       "      <th>mean</th>\n",
       "      <th>std</th>\n",
       "      <th>min</th>\n",
       "      <th>25%</th>\n",
       "      <th>50%</th>\n",
       "      <th>75%</th>\n",
       "      <th>max</th>\n",
       "    </tr>\n",
       "  </thead>\n",
       "  <tbody>\n",
       "    <tr>\n",
       "      <th>budget</th>\n",
       "      <td>4803.0</td>\n",
       "      <td>29045039.88</td>\n",
       "      <td>4.072239e+07</td>\n",
       "      <td>0.000000e+00</td>\n",
       "      <td>790000.00</td>\n",
       "      <td>15000000.00</td>\n",
       "      <td>40000000.00</td>\n",
       "      <td>3.800000e+08</td>\n",
       "    </tr>\n",
       "    <tr>\n",
       "      <th>id</th>\n",
       "      <td>4803.0</td>\n",
       "      <td>57165.48</td>\n",
       "      <td>8.869461e+04</td>\n",
       "      <td>5.000000e+00</td>\n",
       "      <td>9014.50</td>\n",
       "      <td>14629.00</td>\n",
       "      <td>58610.50</td>\n",
       "      <td>4.594880e+05</td>\n",
       "    </tr>\n",
       "    <tr>\n",
       "      <th>popularity</th>\n",
       "      <td>4803.0</td>\n",
       "      <td>21.49</td>\n",
       "      <td>3.182000e+01</td>\n",
       "      <td>0.000000e+00</td>\n",
       "      <td>4.67</td>\n",
       "      <td>12.92</td>\n",
       "      <td>28.31</td>\n",
       "      <td>8.755800e+02</td>\n",
       "    </tr>\n",
       "    <tr>\n",
       "      <th>revenue</th>\n",
       "      <td>4803.0</td>\n",
       "      <td>82260638.65</td>\n",
       "      <td>1.628571e+08</td>\n",
       "      <td>0.000000e+00</td>\n",
       "      <td>0.00</td>\n",
       "      <td>19170001.00</td>\n",
       "      <td>92917187.00</td>\n",
       "      <td>2.787965e+09</td>\n",
       "    </tr>\n",
       "    <tr>\n",
       "      <th>runtime</th>\n",
       "      <td>4801.0</td>\n",
       "      <td>106.88</td>\n",
       "      <td>2.261000e+01</td>\n",
       "      <td>0.000000e+00</td>\n",
       "      <td>94.00</td>\n",
       "      <td>103.00</td>\n",
       "      <td>118.00</td>\n",
       "      <td>3.380000e+02</td>\n",
       "    </tr>\n",
       "    <tr>\n",
       "      <th>vote_average</th>\n",
       "      <td>4803.0</td>\n",
       "      <td>6.09</td>\n",
       "      <td>1.190000e+00</td>\n",
       "      <td>0.000000e+00</td>\n",
       "      <td>5.60</td>\n",
       "      <td>6.20</td>\n",
       "      <td>6.80</td>\n",
       "      <td>1.000000e+01</td>\n",
       "    </tr>\n",
       "    <tr>\n",
       "      <th>vote_count</th>\n",
       "      <td>4803.0</td>\n",
       "      <td>690.22</td>\n",
       "      <td>1.234590e+03</td>\n",
       "      <td>0.000000e+00</td>\n",
       "      <td>54.00</td>\n",
       "      <td>235.00</td>\n",
       "      <td>737.00</td>\n",
       "      <td>1.375200e+04</td>\n",
       "    </tr>\n",
       "    <tr>\n",
       "      <th>profit</th>\n",
       "      <td>4803.0</td>\n",
       "      <td>53215598.78</td>\n",
       "      <td>1.359677e+08</td>\n",
       "      <td>-1.657101e+08</td>\n",
       "      <td>-799537.50</td>\n",
       "      <td>2511317.00</td>\n",
       "      <td>55312860.00</td>\n",
       "      <td>2.550965e+09</td>\n",
       "    </tr>\n",
       "    <tr>\n",
       "      <th>profit_margin</th>\n",
       "      <td>3913.0</td>\n",
       "      <td>-inf</td>\n",
       "      <td>NaN</td>\n",
       "      <td>-inf</td>\n",
       "      <td>-83.33</td>\n",
       "      <td>49.98</td>\n",
       "      <td>76.89</td>\n",
       "      <td>1.000000e+02</td>\n",
       "    </tr>\n",
       "    <tr>\n",
       "      <th>profit_margin_fixed</th>\n",
       "      <td>4803.0</td>\n",
       "      <td>-88843.80</td>\n",
       "      <td>3.487269e+06</td>\n",
       "      <td>-1.916666e+08</td>\n",
       "      <td>0.00</td>\n",
       "      <td>20.13</td>\n",
       "      <td>71.82</td>\n",
       "      <td>1.000000e+02</td>\n",
       "    </tr>\n",
       "  </tbody>\n",
       "</table>\n",
       "</div>"
      ],
      "text/plain": [
       "                      count         mean           std           min  \\\n",
       "budget               4803.0  29045039.88  4.072239e+07  0.000000e+00   \n",
       "id                   4803.0     57165.48  8.869461e+04  5.000000e+00   \n",
       "popularity           4803.0        21.49  3.182000e+01  0.000000e+00   \n",
       "revenue              4803.0  82260638.65  1.628571e+08  0.000000e+00   \n",
       "runtime              4801.0       106.88  2.261000e+01  0.000000e+00   \n",
       "vote_average         4803.0         6.09  1.190000e+00  0.000000e+00   \n",
       "vote_count           4803.0       690.22  1.234590e+03  0.000000e+00   \n",
       "profit               4803.0  53215598.78  1.359677e+08 -1.657101e+08   \n",
       "profit_margin        3913.0         -inf           NaN          -inf   \n",
       "profit_margin_fixed  4803.0    -88843.80  3.487269e+06 -1.916666e+08   \n",
       "\n",
       "                           25%          50%          75%           max  \n",
       "budget               790000.00  15000000.00  40000000.00  3.800000e+08  \n",
       "id                     9014.50     14629.00     58610.50  4.594880e+05  \n",
       "popularity                4.67        12.92        28.31  8.755800e+02  \n",
       "revenue                   0.00  19170001.00  92917187.00  2.787965e+09  \n",
       "runtime                  94.00       103.00       118.00  3.380000e+02  \n",
       "vote_average              5.60         6.20         6.80  1.000000e+01  \n",
       "vote_count               54.00       235.00       737.00  1.375200e+04  \n",
       "profit              -799537.50   2511317.00  55312860.00  2.550965e+09  \n",
       "profit_margin           -83.33        49.98        76.89  1.000000e+02  \n",
       "profit_margin_fixed       0.00        20.13        71.82  1.000000e+02  "
      ]
     },
     "metadata": {},
     "output_type": "display_data"
    }
   ],
   "source": [
    "display(round(df.describe(),2).T) #adding this T gives a clean table"
   ]
  },
  {
   "cell_type": "markdown",
   "id": "7254214b-ede1-424b-9269-5a084de2d54c",
   "metadata": {},
   "source": [
    "On first look, we can see that for numerical values\n",
    "- Budget has the minimum of 0 and that can only happen if the movie is not made. So we can exclude movies with budget of 0\n",
    "- There are missing values in runtime and profit_margin column. Runtime has enough values where this missing does not create that much of problem and for profit margin we have created an alternative fixed column.\n",
    "- Lowest value in popularity is 0 but the highest is 8.755800e+02 which does not match as popularity should ideally be scaled from 0-10. This has also created trouble in mean. We will need to find a better way to interpret this"
   ]
  },
  {
   "cell_type": "code",
   "execution_count": 23,
   "id": "6641e231-c5f6-484d-b2be-e589e0052fae",
   "metadata": {},
   "outputs": [
    {
     "data": {
      "text/html": [
       "<div>\n",
       "<style scoped>\n",
       "    .dataframe tbody tr th:only-of-type {\n",
       "        vertical-align: middle;\n",
       "    }\n",
       "\n",
       "    .dataframe tbody tr th {\n",
       "        vertical-align: top;\n",
       "    }\n",
       "\n",
       "    .dataframe thead th {\n",
       "        text-align: right;\n",
       "    }\n",
       "</style>\n",
       "<table border=\"1\" class=\"dataframe\">\n",
       "  <thead>\n",
       "    <tr style=\"text-align: right;\">\n",
       "      <th></th>\n",
       "      <th>count</th>\n",
       "      <th>unique</th>\n",
       "      <th>top</th>\n",
       "      <th>freq</th>\n",
       "    </tr>\n",
       "  </thead>\n",
       "  <tbody>\n",
       "    <tr>\n",
       "      <th>genres</th>\n",
       "      <td>4803</td>\n",
       "      <td>1175</td>\n",
       "      <td>[{\"id\": 18, \"name\": \"Drama\"}]</td>\n",
       "      <td>370</td>\n",
       "    </tr>\n",
       "    <tr>\n",
       "      <th>keywords</th>\n",
       "      <td>4803</td>\n",
       "      <td>4222</td>\n",
       "      <td>[]</td>\n",
       "      <td>412</td>\n",
       "    </tr>\n",
       "    <tr>\n",
       "      <th>original_language</th>\n",
       "      <td>4803</td>\n",
       "      <td>37</td>\n",
       "      <td>en</td>\n",
       "      <td>4505</td>\n",
       "    </tr>\n",
       "    <tr>\n",
       "      <th>production_companies</th>\n",
       "      <td>4803</td>\n",
       "      <td>3697</td>\n",
       "      <td>[]</td>\n",
       "      <td>351</td>\n",
       "    </tr>\n",
       "    <tr>\n",
       "      <th>release_date</th>\n",
       "      <td>4802</td>\n",
       "      <td>3280</td>\n",
       "      <td>2006-01-01</td>\n",
       "      <td>10</td>\n",
       "    </tr>\n",
       "    <tr>\n",
       "      <th>title_x</th>\n",
       "      <td>4803</td>\n",
       "      <td>4800</td>\n",
       "      <td>The Host</td>\n",
       "      <td>2</td>\n",
       "    </tr>\n",
       "    <tr>\n",
       "      <th>cast</th>\n",
       "      <td>4803</td>\n",
       "      <td>4761</td>\n",
       "      <td>[]</td>\n",
       "      <td>43</td>\n",
       "    </tr>\n",
       "    <tr>\n",
       "      <th>crew</th>\n",
       "      <td>4803</td>\n",
       "      <td>4776</td>\n",
       "      <td>[]</td>\n",
       "      <td>28</td>\n",
       "    </tr>\n",
       "  </tbody>\n",
       "</table>\n",
       "</div>"
      ],
      "text/plain": [
       "                     count unique                            top  freq\n",
       "genres                4803   1175  [{\"id\": 18, \"name\": \"Drama\"}]   370\n",
       "keywords              4803   4222                             []   412\n",
       "original_language     4803     37                             en  4505\n",
       "production_companies  4803   3697                             []   351\n",
       "release_date          4802   3280                     2006-01-01    10\n",
       "title_x               4803   4800                       The Host     2\n",
       "cast                  4803   4761                             []    43\n",
       "crew                  4803   4776                             []    28"
      ]
     },
     "execution_count": 23,
     "metadata": {},
     "output_type": "execute_result"
    }
   ],
   "source": [
    "df.select_dtypes(include = ['object']).describe().T"
   ]
  },
  {
   "cell_type": "markdown",
   "id": "8b576015-35c8-4d8e-ba23-0549b5e87300",
   "metadata": {},
   "source": [
    "On the first look for categorical values\n",
    "- We can see that drama is the biggest genre\n",
    "- We can see that keywords, cast, crew, and production companies have blank list. We need to delete these blank lists to make proper judgetments.\n",
    "- In title_x (we will rename it) there is a duplicate of The Host. We will see if these are two different The Host or a duplicate"
   ]
  },
  {
   "cell_type": "markdown",
   "id": "a4dc323b-a8db-4893-afe0-91a95b6d1391",
   "metadata": {},
   "source": [
    "Now that we know these things we can start our analysis."
   ]
  },
  {
   "cell_type": "markdown",
   "id": "bc53979b-56c1-4c23-9a9e-1543f40c9644",
   "metadata": {},
   "source": [
    "### Q1) What is the relationship of budget and revenue?"
   ]
  },
  {
   "cell_type": "markdown",
   "id": "1ad4c224-a5cb-43c9-b7db-e71f81fdeb35",
   "metadata": {},
   "source": [
    "To assess this relationship, we need following columns\n",
    "- budget\n",
    "- revenue\n",
    "- profit\n",
    "- profit margin"
   ]
  },
  {
   "cell_type": "markdown",
   "id": "c6fd3dfd-4e98-4083-a5bd-b1ffcb9d050a",
   "metadata": {},
   "source": [
    "We first find the correlation between budget, revenue, profit, and profit margin using pearson correlation"
   ]
  },
  {
   "cell_type": "code",
   "execution_count": 29,
   "id": "f3ea33dc-f005-4353-8276-d3253556e20a",
   "metadata": {},
   "outputs": [
    {
     "data": {
      "text/html": [
       "<div>\n",
       "<style scoped>\n",
       "    .dataframe tbody tr th:only-of-type {\n",
       "        vertical-align: middle;\n",
       "    }\n",
       "\n",
       "    .dataframe tbody tr th {\n",
       "        vertical-align: top;\n",
       "    }\n",
       "\n",
       "    .dataframe thead th {\n",
       "        text-align: right;\n",
       "    }\n",
       "</style>\n",
       "<table border=\"1\" class=\"dataframe\">\n",
       "  <thead>\n",
       "    <tr style=\"text-align: right;\">\n",
       "      <th></th>\n",
       "      <th>title_x</th>\n",
       "      <th>budget</th>\n",
       "      <th>revenue</th>\n",
       "      <th>profit</th>\n",
       "      <th>profit_margin</th>\n",
       "    </tr>\n",
       "  </thead>\n",
       "  <tbody>\n",
       "    <tr>\n",
       "      <th>0</th>\n",
       "      <td>Avatar</td>\n",
       "      <td>237000000</td>\n",
       "      <td>2787965087</td>\n",
       "      <td>2550965087</td>\n",
       "      <td>91.499176</td>\n",
       "    </tr>\n",
       "    <tr>\n",
       "      <th>1</th>\n",
       "      <td>Pirates of the Caribbean: At World's End</td>\n",
       "      <td>300000000</td>\n",
       "      <td>961000000</td>\n",
       "      <td>661000000</td>\n",
       "      <td>68.782518</td>\n",
       "    </tr>\n",
       "    <tr>\n",
       "      <th>2</th>\n",
       "      <td>Spectre</td>\n",
       "      <td>245000000</td>\n",
       "      <td>880674609</td>\n",
       "      <td>635674609</td>\n",
       "      <td>72.180417</td>\n",
       "    </tr>\n",
       "  </tbody>\n",
       "</table>\n",
       "</div>"
      ],
      "text/plain": [
       "                                    title_x     budget     revenue  \\\n",
       "0                                    Avatar  237000000  2787965087   \n",
       "1  Pirates of the Caribbean: At World's End  300000000   961000000   \n",
       "2                                   Spectre  245000000   880674609   \n",
       "\n",
       "       profit  profit_margin  \n",
       "0  2550965087      91.499176  \n",
       "1   661000000      68.782518  \n",
       "2   635674609      72.180417  "
      ]
     },
     "execution_count": 29,
     "metadata": {},
     "output_type": "execute_result"
    }
   ],
   "source": [
    "#We have created a seperate dataframe for budget to make changes in this controlled dataframe only\n",
    "\n",
    "columns_to_assign = ['title_x','budget', 'revenue', 'profit', 'profit_margin']\n",
    "df_budget = df[columns_to_assign]\n",
    "df_budget = df_budget.query('budget > 0') # as we saw there are movies with 0 budget we do not need that\n",
    "df_budget.head(3)"
   ]
  },
  {
   "cell_type": "code",
   "execution_count": 30,
   "id": "cb16615d-ad40-4322-b057-f7558f737311",
   "metadata": {},
   "outputs": [
    {
     "data": {
      "image/png": "[encoded data removed]",
      "text/plain": [
       "<Figure size 800x500 with 1 Axes>"
      ]
     },
     "metadata": {},
     "output_type": "display_data"
    }
   ],
   "source": [
    "#Correlation\n",
    "\n",
    "corr = df_budget.corr(method='pearson', numeric_only=True)\n",
    "mask = np.triu(np.ones_like(corr)) #this is to define the treatment of missing values\n",
    "fig = plt.subplots(figsize=(8,5))\n",
    "sns.heatmap(corr,annot=True,fmt='.2f',mask=mask,cbar=None,linewidth=0.5)\n",
    "plt.show()"
   ]
  },
  {
   "cell_type": "markdown",
   "id": "f7e7e98b-5af1-4c7d-83eb-5cb69411476c",
   "metadata": {},
   "source": [
    "We can see that there is some relation between budget and revenue and budget and profit. We will now see these two pairs and their relationship"
   ]
  },
  {
   "cell_type": "code",
   "execution_count": 32,
   "id": "76602934-a8bb-47e5-a34f-968c951b7331",
   "metadata": {},
   "outputs": [
    {
     "data": {
      "text/plain": [
       "Text(0, 0.5, 'Revenue (100 million)')"
      ]
     },
     "execution_count": 32,
     "metadata": {},
     "output_type": "execute_result"
    },
    {
     "data": {
      "image/png": "[encoded data removed]",
      "text/plain": [
       "<Figure size 640x480 with 1 Axes>"
      ]
     },
     "metadata": {},
     "output_type": "display_data"
    }
   ],
   "source": [
    "# Budget VS Revenue\n",
    "\n",
    "df_budget.plot(y='revenue',x='budget',kind='scatter')\n",
    "\n",
    "plt.title(\"Scatter Plot of TMDB Movie Budget vs. Revenue\")\n",
    "plt.xlabel(\"Budget (100 million)\")\n",
    "plt.ylabel(\"Revenue (100 million)\")"
   ]
  },
  {
   "cell_type": "code",
   "execution_count": 33,
   "id": "9ee4d341-bee2-4709-8017-f9c8cabb4812",
   "metadata": {},
   "outputs": [
    {
     "data": {
      "text/plain": [
       "Text(0, 0.5, 'Profit (100 million)')"
      ]
     },
     "execution_count": 33,
     "metadata": {},
     "output_type": "execute_result"
    },
    {
     "data": {
      "image/png": "[encoded data removed]",
      "text/plain": [
       "<Figure size 640x480 with 1 Axes>"
      ]
     },
     "metadata": {},
     "output_type": "display_data"
    }
   ],
   "source": [
    "# Budget VS Profit\n",
    "\n",
    "df_budget.plot(y='profit',x='budget',kind='scatter')\n",
    "\n",
    "plt.title(\"Scatter Plot of TMDB Movie Budget vs. Revenue\")\n",
    "plt.xlabel(\"Budget (100 million)\")\n",
    "plt.ylabel(\"Profit (100 million)\")"
   ]
  },
  {
   "cell_type": "markdown",
   "id": "1046a684-014d-4395-b9e4-51abbb782652",
   "metadata": {},
   "source": [
    "For both revenue and profit, we can see that many movies who have higher budgets have gotten success in converting revenue and profitability but there seems to be some observations which say otherwise. A few movies which cross the $100 million mark, it is not necessary that the movie will give revenue and profitability."
   ]
  },
  {
   "cell_type": "markdown",
   "id": "5c6c75e8-22b8-4a53-88c6-204d8284bcfb",
   "metadata": {},
   "source": [
    "We can see top 10 movies in budget and judge for ourselves"
   ]
  },
  {
   "cell_type": "code",
   "execution_count": 36,
   "id": "467b5fbe-dc79-4e8f-ad18-58cc6095047b",
   "metadata": {},
   "outputs": [
    {
     "data": {
      "text/html": [
       "<div>\n",
       "<style scoped>\n",
       "    .dataframe tbody tr th:only-of-type {\n",
       "        vertical-align: middle;\n",
       "    }\n",
       "\n",
       "    .dataframe tbody tr th {\n",
       "        vertical-align: top;\n",
       "    }\n",
       "\n",
       "    .dataframe thead th {\n",
       "        text-align: right;\n",
       "    }\n",
       "</style>\n",
       "<table border=\"1\" class=\"dataframe\">\n",
       "  <thead>\n",
       "    <tr style=\"text-align: right;\">\n",
       "      <th></th>\n",
       "      <th>budget</th>\n",
       "      <th>revenue</th>\n",
       "      <th>profit</th>\n",
       "    </tr>\n",
       "    <tr>\n",
       "      <th>title_x</th>\n",
       "      <th></th>\n",
       "      <th></th>\n",
       "      <th></th>\n",
       "    </tr>\n",
       "  </thead>\n",
       "  <tbody>\n",
       "    <tr>\n",
       "      <th>Pirates of the Caribbean: On Stranger Tides</th>\n",
       "      <td>380000000</td>\n",
       "      <td>1045713802</td>\n",
       "      <td>665713802</td>\n",
       "    </tr>\n",
       "    <tr>\n",
       "      <th>Pirates of the Caribbean: At World's End</th>\n",
       "      <td>300000000</td>\n",
       "      <td>961000000</td>\n",
       "      <td>661000000</td>\n",
       "    </tr>\n",
       "    <tr>\n",
       "      <th>Avengers: Age of Ultron</th>\n",
       "      <td>280000000</td>\n",
       "      <td>1405403694</td>\n",
       "      <td>1125403694</td>\n",
       "    </tr>\n",
       "    <tr>\n",
       "      <th>Superman Returns</th>\n",
       "      <td>270000000</td>\n",
       "      <td>391081192</td>\n",
       "      <td>121081192</td>\n",
       "    </tr>\n",
       "    <tr>\n",
       "      <th>Tangled</th>\n",
       "      <td>260000000</td>\n",
       "      <td>591794936</td>\n",
       "      <td>331794936</td>\n",
       "    </tr>\n",
       "    <tr>\n",
       "      <th>John Carter</th>\n",
       "      <td>260000000</td>\n",
       "      <td>284139100</td>\n",
       "      <td>24139100</td>\n",
       "    </tr>\n",
       "    <tr>\n",
       "      <th>Spider-Man 3</th>\n",
       "      <td>258000000</td>\n",
       "      <td>890871626</td>\n",
       "      <td>632871626</td>\n",
       "    </tr>\n",
       "    <tr>\n",
       "      <th>The Lone Ranger</th>\n",
       "      <td>255000000</td>\n",
       "      <td>89289910</td>\n",
       "      <td>-165710090</td>\n",
       "    </tr>\n",
       "    <tr>\n",
       "      <th>X-Men: Days of Future Past</th>\n",
       "      <td>250000000</td>\n",
       "      <td>747862775</td>\n",
       "      <td>497862775</td>\n",
       "    </tr>\n",
       "    <tr>\n",
       "      <th>The Hobbit: The Desolation of Smaug</th>\n",
       "      <td>250000000</td>\n",
       "      <td>958400000</td>\n",
       "      <td>708400000</td>\n",
       "    </tr>\n",
       "  </tbody>\n",
       "</table>\n",
       "</div>"
      ],
      "text/plain": [
       "                                                budget     revenue      profit\n",
       "title_x                                                                       \n",
       "Pirates of the Caribbean: On Stranger Tides  380000000  1045713802   665713802\n",
       "Pirates of the Caribbean: At World's End     300000000   961000000   661000000\n",
       "Avengers: Age of Ultron                      280000000  1405403694  1125403694\n",
       "Superman Returns                             270000000   391081192   121081192\n",
       "Tangled                                      260000000   591794936   331794936\n",
       "John Carter                                  260000000   284139100    24139100\n",
       "Spider-Man 3                                 258000000   890871626   632871626\n",
       "The Lone Ranger                              255000000    89289910  -165710090\n",
       "X-Men: Days of Future Past                   250000000   747862775   497862775\n",
       "The Hobbit: The Desolation of Smaug          250000000   958400000   708400000"
      ]
     },
     "execution_count": 36,
     "metadata": {},
     "output_type": "execute_result"
    }
   ],
   "source": [
    "# Groupby Movie Title and Budget, Revenue and Profit for Top 10 Movies\n",
    "df_budget_grouped = df_budget.groupby('title_x')[['budget','revenue','profit']].sum().sort_values('budget',ascending=False).iloc[:10,:]\n",
    "df_budget_grouped"
   ]
  },
  {
   "cell_type": "markdown",
   "id": "70e6619d-454b-4390-a1d5-54a1e3be807e",
   "metadata": {},
   "source": [
    "We can see that The Lone Ranger is a loss which shows that budget alone cannot pull profits."
   ]
  },
  {
   "cell_type": "markdown",
   "id": "362383d2-b51e-4a4d-95c2-2284815b8cf9",
   "metadata": {},
   "source": [
    "### Q2) What genres are popular with people?"
   ]
  },
  {
   "cell_type": "markdown",
   "id": "25f39533-afed-4795-bdb1-c6879000bdc0",
   "metadata": {},
   "source": [
    "To assess this relationship, we need following columns\n",
    "- popularity\n",
    "- genres\n",
    "- revenue\n",
    "- profit"
   ]
  },
  {
   "cell_type": "markdown",
   "id": "1d6879f2-fbf7-4f58-9a07-1e6f5f68ac2a",
   "metadata": {},
   "source": [
    "As we know that genres column have values in json format, we will need to make it readable at first."
   ]
  },
  {
   "cell_type": "code",
   "execution_count": 41,
   "id": "e9541147-b6d5-437e-9402-a51bb67ff2a2",
   "metadata": {},
   "outputs": [],
   "source": [
    "def parse_list_of_dicts(df, column_name, prefix=\"\"):\n",
    "    \"\"\"\n",
    "    Parse a column containing a list of dictionaries and create separate rows for each dictionary.\n",
    "    \n",
    "    Parameters:\n",
    "    df (pandas.DataFrame): Input dataframe\n",
    "    column_name (str): Name of column containing list of dictionaries\n",
    "    prefix (str): Prefix for new column names (optional)\n",
    "    \n",
    "    Returns:\n",
    "    pandas.DataFrame: DataFrame with expanded rows from the list of dictionaries\n",
    "    \"\"\"\n",
    "    # Convert string representation of list of dicts to actual list of dicts\n",
    "    try:\n",
    "        df['temp_dict'] = df[column_name].apply(ast.literal_eval)\n",
    "    except:\n",
    "        try:\n",
    "            df['temp_dict'] = df[column_name].apply(json.loads)\n",
    "        except:\n",
    "            print(f\"Error parsing column {column_name}. Please check the data format.\")\n",
    "            return df\n",
    "\n",
    "    # Explode the list of dictionaries into separate rows\n",
    "    df_exploded = df.explode('temp_dict')\n",
    "    \n",
    "    # Convert dictionary to columns\n",
    "    dict_df = pd.json_normalize(df_exploded['temp_dict'])\n",
    "    \n",
    "    # Add prefix to new columns if specified\n",
    "    if prefix:\n",
    "        dict_df.columns = [f\"{prefix}{col}\" for col in dict_df.columns]\n",
    "    \n",
    "    # Combine with original columns\n",
    "    result = pd.concat([df_exploded.drop(['temp_dict', column_name], axis=1).reset_index(drop=True), \n",
    "                       dict_df], axis=1)\n",
    "    \n",
    "    return result"
   ]
  },
  {
   "cell_type": "code",
   "execution_count": 42,
   "id": "dd2ae546-347f-45a0-bd5e-6d6987860855",
   "metadata": {},
   "outputs": [
    {
     "data": {
      "text/html": [
       "<div>\n",
       "<style scoped>\n",
       "    .dataframe tbody tr th:only-of-type {\n",
       "        vertical-align: middle;\n",
       "    }\n",
       "\n",
       "    .dataframe tbody tr th {\n",
       "        vertical-align: top;\n",
       "    }\n",
       "\n",
       "    .dataframe thead th {\n",
       "        text-align: right;\n",
       "    }\n",
       "</style>\n",
       "<table border=\"1\" class=\"dataframe\">\n",
       "  <thead>\n",
       "    <tr style=\"text-align: right;\">\n",
       "      <th></th>\n",
       "      <th>title_x</th>\n",
       "      <th>popularity</th>\n",
       "      <th>revenue</th>\n",
       "      <th>profit</th>\n",
       "      <th>id</th>\n",
       "      <th>name</th>\n",
       "    </tr>\n",
       "  </thead>\n",
       "  <tbody>\n",
       "    <tr>\n",
       "      <th>0</th>\n",
       "      <td>Avatar</td>\n",
       "      <td>150.437577</td>\n",
       "      <td>2787965087</td>\n",
       "      <td>2550965087</td>\n",
       "      <td>28.0</td>\n",
       "      <td>Action</td>\n",
       "    </tr>\n",
       "    <tr>\n",
       "      <th>1</th>\n",
       "      <td>Avatar</td>\n",
       "      <td>150.437577</td>\n",
       "      <td>2787965087</td>\n",
       "      <td>2550965087</td>\n",
       "      <td>12.0</td>\n",
       "      <td>Adventure</td>\n",
       "    </tr>\n",
       "    <tr>\n",
       "      <th>2</th>\n",
       "      <td>Avatar</td>\n",
       "      <td>150.437577</td>\n",
       "      <td>2787965087</td>\n",
       "      <td>2550965087</td>\n",
       "      <td>14.0</td>\n",
       "      <td>Fantasy</td>\n",
       "    </tr>\n",
       "    <tr>\n",
       "      <th>3</th>\n",
       "      <td>Avatar</td>\n",
       "      <td>150.437577</td>\n",
       "      <td>2787965087</td>\n",
       "      <td>2550965087</td>\n",
       "      <td>878.0</td>\n",
       "      <td>Science Fiction</td>\n",
       "    </tr>\n",
       "    <tr>\n",
       "      <th>4</th>\n",
       "      <td>Pirates of the Caribbean: At World's End</td>\n",
       "      <td>139.082615</td>\n",
       "      <td>961000000</td>\n",
       "      <td>661000000</td>\n",
       "      <td>12.0</td>\n",
       "      <td>Adventure</td>\n",
       "    </tr>\n",
       "  </tbody>\n",
       "</table>\n",
       "</div>"
      ],
      "text/plain": [
       "                                    title_x  popularity     revenue  \\\n",
       "0                                    Avatar  150.437577  2787965087   \n",
       "1                                    Avatar  150.437577  2787965087   \n",
       "2                                    Avatar  150.437577  2787965087   \n",
       "3                                    Avatar  150.437577  2787965087   \n",
       "4  Pirates of the Caribbean: At World's End  139.082615   961000000   \n",
       "\n",
       "       profit     id             name  \n",
       "0  2550965087   28.0           Action  \n",
       "1  2550965087   12.0        Adventure  \n",
       "2  2550965087   14.0          Fantasy  \n",
       "3  2550965087  878.0  Science Fiction  \n",
       "4   661000000   12.0        Adventure  "
      ]
     },
     "execution_count": 42,
     "metadata": {},
     "output_type": "execute_result"
    }
   ],
   "source": [
    "# Creating a temporary dataframe\n",
    "\n",
    "columns_to_assign = ['title_x','popularity','genres','revenue','profit']\n",
    "df_genres = df[columns_to_assign]\n",
    "\n",
    "# Reading json\n",
    "df_genres = parse_list_of_dicts(df_genres,'genres')\n",
    "\n",
    "df_genres.head()"
   ]
  },
  {
   "cell_type": "markdown",
   "id": "23279e1c-2e97-4b06-af3c-f7a5e2541775",
   "metadata": {},
   "source": [
    "We have duplicate value in title because we have multiple genres for same titles. Before anything we need to check if there are any nulls in this new data we have found."
   ]
  },
  {
   "cell_type": "markdown",
   "id": "9e0985f8-3ee1-4223-95b5-bbab6658df0b",
   "metadata": {},
   "source": [
    "After digging a little we found 28 missing values in a count of ~12K entries so it is no issue"
   ]
  },
  {
   "cell_type": "code",
   "execution_count": 45,
   "id": "22acce79-7956-446a-a58e-e93bfa1429cb",
   "metadata": {},
   "outputs": [
    {
     "data": {
      "text/plain": [
       "name\n",
       "Drama              2297\n",
       "Comedy             1722\n",
       "Thriller           1274\n",
       "Action             1154\n",
       "Romance             894\n",
       "Adventure           790\n",
       "Crime               696\n",
       "Science Fiction     535\n",
       "Horror              519\n",
       "Family              513\n",
       "Fantasy             424\n",
       "Mystery             348\n",
       "Animation           234\n",
       "History             197\n",
       "Music               185\n",
       "War                 144\n",
       "Documentary         110\n",
       "Western              82\n",
       "Foreign              34\n",
       "TV Movie              8\n",
       "Name: count, dtype: int64"
      ]
     },
     "execution_count": 45,
     "metadata": {},
     "output_type": "execute_result"
    }
   ],
   "source": [
    "df_genres['name'].value_counts()"
   ]
  },
  {
   "cell_type": "code",
   "execution_count": 46,
   "id": "460f09a6-9136-49e8-a763-35201e840d7f",
   "metadata": {},
   "outputs": [
    {
     "data": {
      "image/png": "[encoded data removed]",
      "text/plain": [
       "<Figure size 800x600 with 1 Axes>"
      ]
     },
     "metadata": {},
     "output_type": "display_data"
    }
   ],
   "source": [
    "plt.figure(figsize=[8,6])\n",
    "df_genres['name'].value_counts().plot.barh()\n",
    "plt.title(\"Bar Chart of Genre Count in TMBd Movies\")\n",
    "plt.ylabel(\"Genres\")\n",
    "plt.xlabel(\"Count\");"
   ]
  },
  {
   "cell_type": "markdown",
   "id": "22d6862d-b807-426d-b2a7-90187451c43f",
   "metadata": {},
   "source": [
    "We see that Drama, Comedy, Thriller and Action are some of the highest occuring values. This shows us that movies under these genre are in high demand. We now need to check if they are also popular amongst people."
   ]
  },
  {
   "cell_type": "markdown",
   "id": "2d8dc145-503a-4a46-ae7f-4055750b9215",
   "metadata": {},
   "source": [
    "As we checked before, there are some issues in how the values have been inputted in popularity so now we will make a standardize measurement to make sure we can assess our question."
   ]
  },
  {
   "cell_type": "code",
   "execution_count": 49,
   "id": "3ca6a239-7d22-4be7-9f66-47a0fa6ae6ad",
   "metadata": {},
   "outputs": [
    {
     "data": {
      "text/plain": [
       "0.26976627442687656"
      ]
     },
     "execution_count": 49,
     "metadata": {},
     "output_type": "execute_result"
    }
   ],
   "source": [
    "df_genres['popularity_scaled'] = df_genres['popularity'] * (10/875.58)\n",
    "df_genres['popularity_scaled'].mean()\n",
    "#we have standardized the rating so that we can get a good average that we can use"
   ]
  },
  {
   "cell_type": "code",
   "execution_count": 50,
   "id": "719e6fed-8dfd-4305-8231-20443398a5d8",
   "metadata": {},
   "outputs": [
    {
     "data": {
      "text/html": [
       "<div>\n",
       "<style scoped>\n",
       "    .dataframe tbody tr th:only-of-type {\n",
       "        vertical-align: middle;\n",
       "    }\n",
       "\n",
       "    .dataframe tbody tr th {\n",
       "        vertical-align: top;\n",
       "    }\n",
       "\n",
       "    .dataframe thead th {\n",
       "        text-align: right;\n",
       "    }\n",
       "</style>\n",
       "<table border=\"1\" class=\"dataframe\">\n",
       "  <thead>\n",
       "    <tr style=\"text-align: right;\">\n",
       "      <th></th>\n",
       "      <th>popularity_scaled</th>\n",
       "      <th>revenue</th>\n",
       "      <th>profit</th>\n",
       "    </tr>\n",
       "    <tr>\n",
       "      <th>name</th>\n",
       "      <th></th>\n",
       "      <th></th>\n",
       "      <th></th>\n",
       "    </tr>\n",
       "  </thead>\n",
       "  <tbody>\n",
       "    <tr>\n",
       "      <th>Adventure</th>\n",
       "      <td>0.448480</td>\n",
       "      <td>2.086602e+08</td>\n",
       "      <td>1.423333e+08</td>\n",
       "    </tr>\n",
       "    <tr>\n",
       "      <th>Animation</th>\n",
       "      <td>0.443288</td>\n",
       "      <td>2.256930e+08</td>\n",
       "      <td>1.592271e+08</td>\n",
       "    </tr>\n",
       "    <tr>\n",
       "      <th>Science Fiction</th>\n",
       "      <td>0.416316</td>\n",
       "      <td>1.524565e+08</td>\n",
       "      <td>1.005910e+08</td>\n",
       "    </tr>\n",
       "    <tr>\n",
       "      <th>Fantasy</th>\n",
       "      <td>0.415576</td>\n",
       "      <td>1.933542e+08</td>\n",
       "      <td>1.297936e+08</td>\n",
       "    </tr>\n",
       "    <tr>\n",
       "      <th>Action</th>\n",
       "      <td>0.353370</td>\n",
       "      <td>1.412131e+08</td>\n",
       "      <td>8.970235e+07</td>\n",
       "    </tr>\n",
       "    <tr>\n",
       "      <th>Family</th>\n",
       "      <td>0.317879</td>\n",
       "      <td>1.623455e+08</td>\n",
       "      <td>1.116260e+08</td>\n",
       "    </tr>\n",
       "    <tr>\n",
       "      <th>Mystery</th>\n",
       "      <td>0.280806</td>\n",
       "      <td>7.830093e+07</td>\n",
       "      <td>4.755644e+07</td>\n",
       "    </tr>\n",
       "    <tr>\n",
       "      <th>Thriller</th>\n",
       "      <td>0.279359</td>\n",
       "      <td>8.104429e+07</td>\n",
       "      <td>4.907608e+07</td>\n",
       "    </tr>\n",
       "    <tr>\n",
       "      <th>War</th>\n",
       "      <td>0.271560</td>\n",
       "      <td>8.415587e+07</td>\n",
       "      <td>4.887342e+07</td>\n",
       "    </tr>\n",
       "  </tbody>\n",
       "</table>\n",
       "</div>"
      ],
      "text/plain": [
       "                 popularity_scaled       revenue        profit\n",
       "name                                                          \n",
       "Adventure                 0.448480  2.086602e+08  1.423333e+08\n",
       "Animation                 0.443288  2.256930e+08  1.592271e+08\n",
       "Science Fiction           0.416316  1.524565e+08  1.005910e+08\n",
       "Fantasy                   0.415576  1.933542e+08  1.297936e+08\n",
       "Action                    0.353370  1.412131e+08  8.970235e+07\n",
       "Family                    0.317879  1.623455e+08  1.116260e+08\n",
       "Mystery                   0.280806  7.830093e+07  4.755644e+07\n",
       "Thriller                  0.279359  8.104429e+07  4.907608e+07\n",
       "War                       0.271560  8.415587e+07  4.887342e+07"
      ]
     },
     "execution_count": 50,
     "metadata": {},
     "output_type": "execute_result"
    }
   ],
   "source": [
    "# Now we will compare genre to popularity and see if more movies produced in this genre means more popularity amongst masses\n",
    "\n",
    "genre_mean = df_genres.groupby('name')[['popularity_scaled','revenue','profit']].mean().sort_values('popularity_scaled', ascending=False)\n",
    "genre_mean.iloc[:10,:].query(\"popularity_scaled > 0.26976627442687656\")"
   ]
  },
  {
   "cell_type": "markdown",
   "id": "3315c53e-6b33-4cdb-ae91-efdbaf2f0498",
   "metadata": {},
   "source": [
    "We can see that it doesn't matter if more movies are being made in a few popular genre. The public's popular vote has gone to genres like Adventure, Animation, and Science Fiction."
   ]
  },
  {
   "cell_type": "markdown",
   "id": "bcacf410-ebc8-4436-8b03-52d1998008bb",
   "metadata": {},
   "source": [
    "### Q3) Which director has the highest revenue under his/her belt?"
   ]
  },
  {
   "cell_type": "markdown",
   "id": "73c82956-9566-48a1-8000-1eddba00a116",
   "metadata": {},
   "source": [
    "To assess this relationship, we need following columns:\n",
    "- crew\n",
    "- revenue\n",
    "- profit"
   ]
  },
  {
   "cell_type": "markdown",
   "id": "d6fabb0d-cdb0-4d5f-ad36-60c839e2a021",
   "metadata": {},
   "source": [
    "As we know that crew column has data about multiple roles that people perform when a movie is made. In that one of the roles is of director so we would filter out the value we need from that."
   ]
  },
  {
   "cell_type": "markdown",
   "id": "851df7f0-3852-46d5-b90f-113558a555e3",
   "metadata": {},
   "source": [
    "We declared a custom formula in Q2 which we will use to extract data from crew column as well"
   ]
  },
  {
   "cell_type": "code",
   "execution_count": 56,
   "id": "14e80648-29e5-430f-bebd-924784ba3744",
   "metadata": {},
   "outputs": [],
   "source": [
    "# We will create a temporary dataframe to hold the values we need\n",
    "\n",
    "columns_to_assign = ['title_x','crew','revenue','profit']\n",
    "df_director = df[columns_to_assign]"
   ]
  },
  {
   "cell_type": "code",
   "execution_count": 57,
   "id": "0fcf12ef-7bd9-43be-a836-6b38541bf784",
   "metadata": {},
   "outputs": [
    {
     "data": {
      "text/html": [
       "<div>\n",
       "<style scoped>\n",
       "    .dataframe tbody tr th:only-of-type {\n",
       "        vertical-align: middle;\n",
       "    }\n",
       "\n",
       "    .dataframe tbody tr th {\n",
       "        vertical-align: top;\n",
       "    }\n",
       "\n",
       "    .dataframe thead th {\n",
       "        text-align: right;\n",
       "    }\n",
       "</style>\n",
       "<table border=\"1\" class=\"dataframe\">\n",
       "  <thead>\n",
       "    <tr style=\"text-align: right;\">\n",
       "      <th></th>\n",
       "      <th>title_x</th>\n",
       "      <th>revenue</th>\n",
       "      <th>profit</th>\n",
       "      <th>credit_id</th>\n",
       "      <th>department</th>\n",
       "      <th>gender</th>\n",
       "      <th>id</th>\n",
       "      <th>job</th>\n",
       "      <th>name</th>\n",
       "    </tr>\n",
       "  </thead>\n",
       "  <tbody>\n",
       "    <tr>\n",
       "      <th>0</th>\n",
       "      <td>Avatar</td>\n",
       "      <td>2787965087</td>\n",
       "      <td>2550965087</td>\n",
       "      <td>52fe48009251416c750aca23</td>\n",
       "      <td>Editing</td>\n",
       "      <td>0.0</td>\n",
       "      <td>1721.0</td>\n",
       "      <td>Editor</td>\n",
       "      <td>Stephen E. Rivkin</td>\n",
       "    </tr>\n",
       "    <tr>\n",
       "      <th>1</th>\n",
       "      <td>Avatar</td>\n",
       "      <td>2787965087</td>\n",
       "      <td>2550965087</td>\n",
       "      <td>539c47ecc3a36810e3001f87</td>\n",
       "      <td>Art</td>\n",
       "      <td>2.0</td>\n",
       "      <td>496.0</td>\n",
       "      <td>Production Design</td>\n",
       "      <td>Rick Carter</td>\n",
       "    </tr>\n",
       "    <tr>\n",
       "      <th>2</th>\n",
       "      <td>Avatar</td>\n",
       "      <td>2787965087</td>\n",
       "      <td>2550965087</td>\n",
       "      <td>54491c89c3a3680fb4001cf7</td>\n",
       "      <td>Sound</td>\n",
       "      <td>0.0</td>\n",
       "      <td>900.0</td>\n",
       "      <td>Sound Designer</td>\n",
       "      <td>Christopher Boyes</td>\n",
       "    </tr>\n",
       "    <tr>\n",
       "      <th>3</th>\n",
       "      <td>Avatar</td>\n",
       "      <td>2787965087</td>\n",
       "      <td>2550965087</td>\n",
       "      <td>54491cb70e0a267480001bd0</td>\n",
       "      <td>Sound</td>\n",
       "      <td>0.0</td>\n",
       "      <td>900.0</td>\n",
       "      <td>Supervising Sound Editor</td>\n",
       "      <td>Christopher Boyes</td>\n",
       "    </tr>\n",
       "    <tr>\n",
       "      <th>4</th>\n",
       "      <td>Avatar</td>\n",
       "      <td>2787965087</td>\n",
       "      <td>2550965087</td>\n",
       "      <td>539c4a4cc3a36810c9002101</td>\n",
       "      <td>Production</td>\n",
       "      <td>1.0</td>\n",
       "      <td>1262.0</td>\n",
       "      <td>Casting</td>\n",
       "      <td>Mali Finn</td>\n",
       "    </tr>\n",
       "  </tbody>\n",
       "</table>\n",
       "</div>"
      ],
      "text/plain": [
       "  title_x     revenue      profit                 credit_id  department  \\\n",
       "0  Avatar  2787965087  2550965087  52fe48009251416c750aca23     Editing   \n",
       "1  Avatar  2787965087  2550965087  539c47ecc3a36810e3001f87         Art   \n",
       "2  Avatar  2787965087  2550965087  54491c89c3a3680fb4001cf7       Sound   \n",
       "3  Avatar  2787965087  2550965087  54491cb70e0a267480001bd0       Sound   \n",
       "4  Avatar  2787965087  2550965087  539c4a4cc3a36810c9002101  Production   \n",
       "\n",
       "   gender      id                       job               name  \n",
       "0     0.0  1721.0                    Editor  Stephen E. Rivkin  \n",
       "1     2.0   496.0         Production Design        Rick Carter  \n",
       "2     0.0   900.0            Sound Designer  Christopher Boyes  \n",
       "3     0.0   900.0  Supervising Sound Editor  Christopher Boyes  \n",
       "4     1.0  1262.0                   Casting          Mali Finn  "
      ]
     },
     "execution_count": 57,
     "metadata": {},
     "output_type": "execute_result"
    }
   ],
   "source": [
    "df_director = parse_list_of_dicts(df_director,'crew')\n",
    "df_director.head()"
   ]
  },
  {
   "cell_type": "code",
   "execution_count": 58,
   "id": "45a30941-c2d1-4457-ade7-8c0e5ec11ec0",
   "metadata": {},
   "outputs": [
    {
     "data": {
      "text/html": [
       "<div>\n",
       "<style scoped>\n",
       "    .dataframe tbody tr th:only-of-type {\n",
       "        vertical-align: middle;\n",
       "    }\n",
       "\n",
       "    .dataframe tbody tr th {\n",
       "        vertical-align: top;\n",
       "    }\n",
       "\n",
       "    .dataframe thead th {\n",
       "        text-align: right;\n",
       "    }\n",
       "</style>\n",
       "<table border=\"1\" class=\"dataframe\">\n",
       "  <thead>\n",
       "    <tr style=\"text-align: right;\">\n",
       "      <th></th>\n",
       "      <th>title_x</th>\n",
       "      <th>revenue</th>\n",
       "      <th>profit</th>\n",
       "      <th>credit_id</th>\n",
       "      <th>gender</th>\n",
       "      <th>id</th>\n",
       "      <th>job</th>\n",
       "      <th>name</th>\n",
       "    </tr>\n",
       "  </thead>\n",
       "  <tbody>\n",
       "    <tr>\n",
       "      <th>0</th>\n",
       "      <td>Avatar</td>\n",
       "      <td>2787965087</td>\n",
       "      <td>2550965087</td>\n",
       "      <td>52fe48009251416c750aca23</td>\n",
       "      <td>0.0</td>\n",
       "      <td>1721.0</td>\n",
       "      <td>Editor</td>\n",
       "      <td>Stephen E. Rivkin</td>\n",
       "    </tr>\n",
       "    <tr>\n",
       "      <th>1</th>\n",
       "      <td>Avatar</td>\n",
       "      <td>2787965087</td>\n",
       "      <td>2550965087</td>\n",
       "      <td>539c47ecc3a36810e3001f87</td>\n",
       "      <td>2.0</td>\n",
       "      <td>496.0</td>\n",
       "      <td>Production Design</td>\n",
       "      <td>Rick Carter</td>\n",
       "    </tr>\n",
       "    <tr>\n",
       "      <th>2</th>\n",
       "      <td>Avatar</td>\n",
       "      <td>2787965087</td>\n",
       "      <td>2550965087</td>\n",
       "      <td>54491c89c3a3680fb4001cf7</td>\n",
       "      <td>0.0</td>\n",
       "      <td>900.0</td>\n",
       "      <td>Sound Designer</td>\n",
       "      <td>Christopher Boyes</td>\n",
       "    </tr>\n",
       "    <tr>\n",
       "      <th>3</th>\n",
       "      <td>Avatar</td>\n",
       "      <td>2787965087</td>\n",
       "      <td>2550965087</td>\n",
       "      <td>54491cb70e0a267480001bd0</td>\n",
       "      <td>0.0</td>\n",
       "      <td>900.0</td>\n",
       "      <td>Supervising Sound Editor</td>\n",
       "      <td>Christopher Boyes</td>\n",
       "    </tr>\n",
       "    <tr>\n",
       "      <th>4</th>\n",
       "      <td>Avatar</td>\n",
       "      <td>2787965087</td>\n",
       "      <td>2550965087</td>\n",
       "      <td>539c4a4cc3a36810c9002101</td>\n",
       "      <td>1.0</td>\n",
       "      <td>1262.0</td>\n",
       "      <td>Casting</td>\n",
       "      <td>Mali Finn</td>\n",
       "    </tr>\n",
       "  </tbody>\n",
       "</table>\n",
       "</div>"
      ],
      "text/plain": [
       "  title_x     revenue      profit                 credit_id  gender      id  \\\n",
       "0  Avatar  2787965087  2550965087  52fe48009251416c750aca23     0.0  1721.0   \n",
       "1  Avatar  2787965087  2550965087  539c47ecc3a36810e3001f87     2.0   496.0   \n",
       "2  Avatar  2787965087  2550965087  54491c89c3a3680fb4001cf7     0.0   900.0   \n",
       "3  Avatar  2787965087  2550965087  54491cb70e0a267480001bd0     0.0   900.0   \n",
       "4  Avatar  2787965087  2550965087  539c4a4cc3a36810c9002101     1.0  1262.0   \n",
       "\n",
       "                        job               name  \n",
       "0                    Editor  Stephen E. Rivkin  \n",
       "1         Production Design        Rick Carter  \n",
       "2            Sound Designer  Christopher Boyes  \n",
       "3  Supervising Sound Editor  Christopher Boyes  \n",
       "4                   Casting          Mali Finn  "
      ]
     },
     "execution_count": 58,
     "metadata": {},
     "output_type": "execute_result"
    }
   ],
   "source": [
    "# We will drop unnecessary columns and filter the dataframe so we only have values from directors\n",
    "\n",
    "#df_director = df_director.drop(columns=['credit_id','gender','id'])\n",
    "df_director = df_director.drop(columns=['department'])\n",
    "df_director.head()"
   ]
  },
  {
   "cell_type": "code",
   "execution_count": 59,
   "id": "d7821530-44a9-44d7-8879-7c21550fd680",
   "metadata": {},
   "outputs": [
    {
     "data": {
      "text/html": [
       "<div>\n",
       "<style scoped>\n",
       "    .dataframe tbody tr th:only-of-type {\n",
       "        vertical-align: middle;\n",
       "    }\n",
       "\n",
       "    .dataframe tbody tr th {\n",
       "        vertical-align: top;\n",
       "    }\n",
       "\n",
       "    .dataframe thead th {\n",
       "        text-align: right;\n",
       "    }\n",
       "</style>\n",
       "<table border=\"1\" class=\"dataframe\">\n",
       "  <thead>\n",
       "    <tr style=\"text-align: right;\">\n",
       "      <th></th>\n",
       "      <th>title_x</th>\n",
       "      <th>revenue</th>\n",
       "      <th>profit</th>\n",
       "      <th>credit_id</th>\n",
       "      <th>gender</th>\n",
       "      <th>id</th>\n",
       "      <th>job</th>\n",
       "      <th>name</th>\n",
       "    </tr>\n",
       "  </thead>\n",
       "  <tbody>\n",
       "    <tr>\n",
       "      <th>6</th>\n",
       "      <td>Avatar</td>\n",
       "      <td>2787965087</td>\n",
       "      <td>2550965087</td>\n",
       "      <td>52fe48009251416c750ac9c3</td>\n",
       "      <td>2.0</td>\n",
       "      <td>2710.0</td>\n",
       "      <td>Director</td>\n",
       "      <td>James Cameron</td>\n",
       "    </tr>\n",
       "    <tr>\n",
       "      <th>154</th>\n",
       "      <td>Pirates of the Caribbean: At World's End</td>\n",
       "      <td>961000000</td>\n",
       "      <td>661000000</td>\n",
       "      <td>52fe4232c3a36847f800b4fd</td>\n",
       "      <td>2.0</td>\n",
       "      <td>1704.0</td>\n",
       "      <td>Director</td>\n",
       "      <td>Gore Verbinski</td>\n",
       "    </tr>\n",
       "    <tr>\n",
       "      <th>186</th>\n",
       "      <td>Spectre</td>\n",
       "      <td>880674609</td>\n",
       "      <td>635674609</td>\n",
       "      <td>52fe4d22c3a368484e1d8d77</td>\n",
       "      <td>2.0</td>\n",
       "      <td>39.0</td>\n",
       "      <td>Director</td>\n",
       "      <td>Sam Mendes</td>\n",
       "    </tr>\n",
       "    <tr>\n",
       "      <th>343</th>\n",
       "      <td>The Dark Knight Rises</td>\n",
       "      <td>1084939099</td>\n",
       "      <td>834939099</td>\n",
       "      <td>52fe4781c3a36847f8139865</td>\n",
       "      <td>2.0</td>\n",
       "      <td>525.0</td>\n",
       "      <td>Director</td>\n",
       "      <td>Christopher Nolan</td>\n",
       "    </tr>\n",
       "    <tr>\n",
       "      <th>558</th>\n",
       "      <td>John Carter</td>\n",
       "      <td>284139100</td>\n",
       "      <td>24139100</td>\n",
       "      <td>52fe479ac3a36847f813ea65</td>\n",
       "      <td>2.0</td>\n",
       "      <td>7.0</td>\n",
       "      <td>Director</td>\n",
       "      <td>Andrew Stanton</td>\n",
       "    </tr>\n",
       "  </tbody>\n",
       "</table>\n",
       "</div>"
      ],
      "text/plain": [
       "                                      title_x     revenue      profit  \\\n",
       "6                                      Avatar  2787965087  2550965087   \n",
       "154  Pirates of the Caribbean: At World's End   961000000   661000000   \n",
       "186                                   Spectre   880674609   635674609   \n",
       "343                     The Dark Knight Rises  1084939099   834939099   \n",
       "558                               John Carter   284139100    24139100   \n",
       "\n",
       "                    credit_id  gender      id       job               name  \n",
       "6    52fe48009251416c750ac9c3     2.0  2710.0  Director      James Cameron  \n",
       "154  52fe4232c3a36847f800b4fd     2.0  1704.0  Director     Gore Verbinski  \n",
       "186  52fe4d22c3a368484e1d8d77     2.0    39.0  Director         Sam Mendes  \n",
       "343  52fe4781c3a36847f8139865     2.0   525.0  Director  Christopher Nolan  \n",
       "558  52fe479ac3a36847f813ea65     2.0     7.0  Director     Andrew Stanton  "
      ]
     },
     "execution_count": 59,
     "metadata": {},
     "output_type": "execute_result"
    }
   ],
   "source": [
    "df_director = df_director[df_director['job'] == 'Director']\n",
    "df_director.head()"
   ]
  },
  {
   "cell_type": "code",
   "execution_count": 60,
   "id": "14278f04-2649-4a90-8341-ed17bfbda12d",
   "metadata": {},
   "outputs": [
    {
     "data": {
      "text/plain": [
       "name\n",
       "Steven Spielberg       27\n",
       "Woody Allen            22\n",
       "Martin Scorsese        21\n",
       "Clint Eastwood         20\n",
       "Robert Rodriguez       17\n",
       "                       ..\n",
       "Wallace Wolodarsky      1\n",
       "Lionel C. Martin        1\n",
       "Ernest R. Dickerson     1\n",
       "Cheryl Dunye            1\n",
       "Brett Winn              1\n",
       "Name: count, Length: 2577, dtype: int64"
      ]
     },
     "execution_count": 60,
     "metadata": {},
     "output_type": "execute_result"
    }
   ],
   "source": [
    "# To find how many movies have been directed by each director\n",
    "df_director['name'].value_counts()"
   ]
  },
  {
   "cell_type": "markdown",
   "id": "8cef6ef5-4678-4a67-ad70-b4fca3220eb3",
   "metadata": {},
   "source": [
    "We can see that Steven Spielberg, Woody Allen, Martin Scorsese have made the most movies so does that equate to higher revenue and profits?"
   ]
  },
  {
   "cell_type": "code",
   "execution_count": 62,
   "id": "a65b2d48-3a7f-4d22-a3bf-c68575053e65",
   "metadata": {},
   "outputs": [
    {
     "data": {
      "text/html": [
       "<div>\n",
       "<style scoped>\n",
       "    .dataframe tbody tr th:only-of-type {\n",
       "        vertical-align: middle;\n",
       "    }\n",
       "\n",
       "    .dataframe tbody tr th {\n",
       "        vertical-align: top;\n",
       "    }\n",
       "\n",
       "    .dataframe thead th {\n",
       "        text-align: right;\n",
       "    }\n",
       "</style>\n",
       "<table border=\"1\" class=\"dataframe\">\n",
       "  <thead>\n",
       "    <tr style=\"text-align: right;\">\n",
       "      <th></th>\n",
       "      <th>revenue</th>\n",
       "      <th>profit</th>\n",
       "    </tr>\n",
       "    <tr>\n",
       "      <th>name</th>\n",
       "      <th></th>\n",
       "      <th></th>\n",
       "    </tr>\n",
       "  </thead>\n",
       "  <tbody>\n",
       "    <tr>\n",
       "      <th>Jennifer Lee</th>\n",
       "      <td>1.274219e+09</td>\n",
       "      <td>1.124219e+09</td>\n",
       "    </tr>\n",
       "    <tr>\n",
       "      <th>Kyle Balda</th>\n",
       "      <td>1.156731e+09</td>\n",
       "      <td>1.082731e+09</td>\n",
       "    </tr>\n",
       "    <tr>\n",
       "      <th>Lee Unkrich</th>\n",
       "      <td>1.066970e+09</td>\n",
       "      <td>8.669697e+08</td>\n",
       "    </tr>\n",
       "    <tr>\n",
       "      <th>Joss Whedon</th>\n",
       "      <td>9.879437e+08</td>\n",
       "      <td>8.082770e+08</td>\n",
       "    </tr>\n",
       "    <tr>\n",
       "      <th>Pierre Coffin</th>\n",
       "      <td>8.903356e+08</td>\n",
       "      <td>8.173356e+08</td>\n",
       "    </tr>\n",
       "  </tbody>\n",
       "</table>\n",
       "</div>"
      ],
      "text/plain": [
       "                    revenue        profit\n",
       "name                                     \n",
       "Jennifer Lee   1.274219e+09  1.124219e+09\n",
       "Kyle Balda     1.156731e+09  1.082731e+09\n",
       "Lee Unkrich    1.066970e+09  8.669697e+08\n",
       "Joss Whedon    9.879437e+08  8.082770e+08\n",
       "Pierre Coffin  8.903356e+08  8.173356e+08"
      ]
     },
     "execution_count": 62,
     "metadata": {},
     "output_type": "execute_result"
    }
   ],
   "source": [
    "# We will now sort them by revenue and profit both\n",
    "\n",
    "df_director.groupby('name')[['revenue','profit']].mean().sort_values('revenue', ascending=False).head(5)"
   ]
  },
  {
   "cell_type": "code",
   "execution_count": 63,
   "id": "e71ad7b0-a9c1-4e01-8c60-9ce9bc6b8fb3",
   "metadata": {},
   "outputs": [
    {
     "data": {
      "text/html": [
       "<div>\n",
       "<style scoped>\n",
       "    .dataframe tbody tr th:only-of-type {\n",
       "        vertical-align: middle;\n",
       "    }\n",
       "\n",
       "    .dataframe tbody tr th {\n",
       "        vertical-align: top;\n",
       "    }\n",
       "\n",
       "    .dataframe thead th {\n",
       "        text-align: right;\n",
       "    }\n",
       "</style>\n",
       "<table border=\"1\" class=\"dataframe\">\n",
       "  <thead>\n",
       "    <tr style=\"text-align: right;\">\n",
       "      <th></th>\n",
       "      <th>revenue</th>\n",
       "      <th>profit</th>\n",
       "    </tr>\n",
       "    <tr>\n",
       "      <th>name</th>\n",
       "      <th></th>\n",
       "      <th></th>\n",
       "    </tr>\n",
       "  </thead>\n",
       "  <tbody>\n",
       "    <tr>\n",
       "      <th>Jennifer Lee</th>\n",
       "      <td>1.274219e+09</td>\n",
       "      <td>1.124219e+09</td>\n",
       "    </tr>\n",
       "    <tr>\n",
       "      <th>Kyle Balda</th>\n",
       "      <td>1.156731e+09</td>\n",
       "      <td>1.082731e+09</td>\n",
       "    </tr>\n",
       "    <tr>\n",
       "      <th>Lee Unkrich</th>\n",
       "      <td>1.066970e+09</td>\n",
       "      <td>8.669697e+08</td>\n",
       "    </tr>\n",
       "    <tr>\n",
       "      <th>Pierre Coffin</th>\n",
       "      <td>8.903356e+08</td>\n",
       "      <td>8.173356e+08</td>\n",
       "    </tr>\n",
       "    <tr>\n",
       "      <th>Joss Whedon</th>\n",
       "      <td>9.879437e+08</td>\n",
       "      <td>8.082770e+08</td>\n",
       "    </tr>\n",
       "  </tbody>\n",
       "</table>\n",
       "</div>"
      ],
      "text/plain": [
       "                    revenue        profit\n",
       "name                                     \n",
       "Jennifer Lee   1.274219e+09  1.124219e+09\n",
       "Kyle Balda     1.156731e+09  1.082731e+09\n",
       "Lee Unkrich    1.066970e+09  8.669697e+08\n",
       "Pierre Coffin  8.903356e+08  8.173356e+08\n",
       "Joss Whedon    9.879437e+08  8.082770e+08"
      ]
     },
     "execution_count": 63,
     "metadata": {},
     "output_type": "execute_result"
    }
   ],
   "source": [
    "df_director.groupby('name')[['revenue','profit']].mean().sort_values('profit', ascending=False).head(5)"
   ]
  },
  {
   "cell_type": "markdown",
   "id": "59f0df2e-7699-42ef-a464-22fa1ee403d4",
   "metadata": {},
   "source": [
    "We can see that Jennifer Lee tops the chart by having highest revenue and profits. We will now see what movie she directed."
   ]
  },
  {
   "cell_type": "code",
   "execution_count": 65,
   "id": "898cfb4e-d044-4cdf-9e8e-f7ebcbc157ec",
   "metadata": {},
   "outputs": [
    {
     "data": {
      "text/html": [
       "<div>\n",
       "<style scoped>\n",
       "    .dataframe tbody tr th:only-of-type {\n",
       "        vertical-align: middle;\n",
       "    }\n",
       "\n",
       "    .dataframe tbody tr th {\n",
       "        vertical-align: top;\n",
       "    }\n",
       "\n",
       "    .dataframe thead th {\n",
       "        text-align: right;\n",
       "    }\n",
       "</style>\n",
       "<table border=\"1\" class=\"dataframe\">\n",
       "  <thead>\n",
       "    <tr style=\"text-align: right;\">\n",
       "      <th></th>\n",
       "      <th>title_x</th>\n",
       "      <th>revenue</th>\n",
       "      <th>profit</th>\n",
       "      <th>credit_id</th>\n",
       "      <th>gender</th>\n",
       "      <th>id</th>\n",
       "      <th>job</th>\n",
       "      <th>name</th>\n",
       "    </tr>\n",
       "  </thead>\n",
       "  <tbody>\n",
       "    <tr>\n",
       "      <th>8287</th>\n",
       "      <td>Frozen</td>\n",
       "      <td>1274219009</td>\n",
       "      <td>1124219009</td>\n",
       "      <td>52fe4ab7c3a36847f81dddfb</td>\n",
       "      <td>1.0</td>\n",
       "      <td>1120694.0</td>\n",
       "      <td>Director</td>\n",
       "      <td>Jennifer Lee</td>\n",
       "    </tr>\n",
       "  </tbody>\n",
       "</table>\n",
       "</div>"
      ],
      "text/plain": [
       "     title_x     revenue      profit                 credit_id  gender  \\\n",
       "8287  Frozen  1274219009  1124219009  52fe4ab7c3a36847f81dddfb     1.0   \n",
       "\n",
       "             id       job          name  \n",
       "8287  1120694.0  Director  Jennifer Lee  "
      ]
     },
     "execution_count": 65,
     "metadata": {},
     "output_type": "execute_result"
    }
   ],
   "source": [
    "df_director.query('name == \"Jennifer Lee\"').sort_values('profit', ascending=False).head()"
   ]
  },
  {
   "cell_type": "markdown",
   "id": "6fb91265-de7a-436e-ab25-2377b3938610",
   "metadata": {},
   "source": [
    "### Q4) Which is the most popular and highest revenue grossing actor?  "
   ]
  },
  {
   "cell_type": "markdown",
   "id": "e61e671e-2cd4-4bb5-a93e-e3475b07e103",
   "metadata": {},
   "source": [
    "To assess this relationship, we need following columns:\n",
    "- cast\n",
    "- revenue\n",
    "- profit\n",
    "- popularity"
   ]
  },
  {
   "cell_type": "code",
   "execution_count": 68,
   "id": "0d23305a-a7c2-48e2-9268-3e761f127304",
   "metadata": {},
   "outputs": [
    {
     "data": {
      "text/html": [
       "<div>\n",
       "<style scoped>\n",
       "    .dataframe tbody tr th:only-of-type {\n",
       "        vertical-align: middle;\n",
       "    }\n",
       "\n",
       "    .dataframe tbody tr th {\n",
       "        vertical-align: top;\n",
       "    }\n",
       "\n",
       "    .dataframe thead th {\n",
       "        text-align: right;\n",
       "    }\n",
       "</style>\n",
       "<table border=\"1\" class=\"dataframe\">\n",
       "  <thead>\n",
       "    <tr style=\"text-align: right;\">\n",
       "      <th></th>\n",
       "      <th>cast</th>\n",
       "      <th>popularity</th>\n",
       "      <th>revenue</th>\n",
       "      <th>profit</th>\n",
       "      <th>popularity_scaled</th>\n",
       "    </tr>\n",
       "  </thead>\n",
       "  <tbody>\n",
       "    <tr>\n",
       "      <th>0</th>\n",
       "      <td>[{\"cast_id\": 242, \"character\": \"Jake Sully\", \"...</td>\n",
       "      <td>150.437577</td>\n",
       "      <td>2787965087</td>\n",
       "      <td>2550965087</td>\n",
       "      <td>1.718145</td>\n",
       "    </tr>\n",
       "    <tr>\n",
       "      <th>1</th>\n",
       "      <td>[{\"cast_id\": 4, \"character\": \"Captain Jack Spa...</td>\n",
       "      <td>139.082615</td>\n",
       "      <td>961000000</td>\n",
       "      <td>661000000</td>\n",
       "      <td>1.588460</td>\n",
       "    </tr>\n",
       "    <tr>\n",
       "      <th>2</th>\n",
       "      <td>[{\"cast_id\": 1, \"character\": \"James Bond\", \"cr...</td>\n",
       "      <td>107.376788</td>\n",
       "      <td>880674609</td>\n",
       "      <td>635674609</td>\n",
       "      <td>1.226349</td>\n",
       "    </tr>\n",
       "  </tbody>\n",
       "</table>\n",
       "</div>"
      ],
      "text/plain": [
       "                                                cast  popularity     revenue  \\\n",
       "0  [{\"cast_id\": 242, \"character\": \"Jake Sully\", \"...  150.437577  2787965087   \n",
       "1  [{\"cast_id\": 4, \"character\": \"Captain Jack Spa...  139.082615   961000000   \n",
       "2  [{\"cast_id\": 1, \"character\": \"James Bond\", \"cr...  107.376788   880674609   \n",
       "\n",
       "       profit  popularity_scaled  \n",
       "0  2550965087           1.718145  \n",
       "1   661000000           1.588460  \n",
       "2   635674609           1.226349  "
      ]
     },
     "execution_count": 68,
     "metadata": {},
     "output_type": "execute_result"
    }
   ],
   "source": [
    "#We will declare a temporary dataframe and standardize popularity\n",
    "\n",
    "columns_to_assign = ['cast','popularity', 'revenue', 'profit']\n",
    "df_actor = df[columns_to_assign]\n",
    "df_actor['popularity_scaled'] = (df_actor['popularity'] - df_actor['popularity'].min()) * (10 - 0) / (df_actor['popularity'].max() - df_actor['popularity'].min())\n",
    "df_actor.head(3)"
   ]
  },
  {
   "cell_type": "code",
   "execution_count": 69,
   "id": "78ad82a6-cb40-4876-827c-aa07a243de36",
   "metadata": {},
   "outputs": [
    {
     "data": {
      "text/html": [
       "<div>\n",
       "<style scoped>\n",
       "    .dataframe tbody tr th:only-of-type {\n",
       "        vertical-align: middle;\n",
       "    }\n",
       "\n",
       "    .dataframe tbody tr th {\n",
       "        vertical-align: top;\n",
       "    }\n",
       "\n",
       "    .dataframe thead th {\n",
       "        text-align: right;\n",
       "    }\n",
       "</style>\n",
       "<table border=\"1\" class=\"dataframe\">\n",
       "  <thead>\n",
       "    <tr style=\"text-align: right;\">\n",
       "      <th></th>\n",
       "      <th>popularity</th>\n",
       "      <th>revenue</th>\n",
       "      <th>profit</th>\n",
       "      <th>popularity_scaled</th>\n",
       "      <th>cast_id</th>\n",
       "      <th>character</th>\n",
       "      <th>credit_id</th>\n",
       "      <th>gender</th>\n",
       "      <th>id</th>\n",
       "      <th>name</th>\n",
       "      <th>order</th>\n",
       "    </tr>\n",
       "  </thead>\n",
       "  <tbody>\n",
       "    <tr>\n",
       "      <th>0</th>\n",
       "      <td>150.437577</td>\n",
       "      <td>2787965087</td>\n",
       "      <td>2550965087</td>\n",
       "      <td>1.718145</td>\n",
       "      <td>242.0</td>\n",
       "      <td>Jake Sully</td>\n",
       "      <td>5602a8a7c3a3685532001c9a</td>\n",
       "      <td>2.0</td>\n",
       "      <td>65731.0</td>\n",
       "      <td>Sam Worthington</td>\n",
       "      <td>0.0</td>\n",
       "    </tr>\n",
       "    <tr>\n",
       "      <th>1</th>\n",
       "      <td>150.437577</td>\n",
       "      <td>2787965087</td>\n",
       "      <td>2550965087</td>\n",
       "      <td>1.718145</td>\n",
       "      <td>3.0</td>\n",
       "      <td>Neytiri</td>\n",
       "      <td>52fe48009251416c750ac9cb</td>\n",
       "      <td>1.0</td>\n",
       "      <td>8691.0</td>\n",
       "      <td>Zoe Saldana</td>\n",
       "      <td>1.0</td>\n",
       "    </tr>\n",
       "    <tr>\n",
       "      <th>2</th>\n",
       "      <td>150.437577</td>\n",
       "      <td>2787965087</td>\n",
       "      <td>2550965087</td>\n",
       "      <td>1.718145</td>\n",
       "      <td>25.0</td>\n",
       "      <td>Dr. Grace Augustine</td>\n",
       "      <td>52fe48009251416c750aca39</td>\n",
       "      <td>1.0</td>\n",
       "      <td>10205.0</td>\n",
       "      <td>Sigourney Weaver</td>\n",
       "      <td>2.0</td>\n",
       "    </tr>\n",
       "    <tr>\n",
       "      <th>3</th>\n",
       "      <td>150.437577</td>\n",
       "      <td>2787965087</td>\n",
       "      <td>2550965087</td>\n",
       "      <td>1.718145</td>\n",
       "      <td>4.0</td>\n",
       "      <td>Col. Quaritch</td>\n",
       "      <td>52fe48009251416c750ac9cf</td>\n",
       "      <td>2.0</td>\n",
       "      <td>32747.0</td>\n",
       "      <td>Stephen Lang</td>\n",
       "      <td>3.0</td>\n",
       "    </tr>\n",
       "    <tr>\n",
       "      <th>4</th>\n",
       "      <td>150.437577</td>\n",
       "      <td>2787965087</td>\n",
       "      <td>2550965087</td>\n",
       "      <td>1.718145</td>\n",
       "      <td>5.0</td>\n",
       "      <td>Trudy Chacon</td>\n",
       "      <td>52fe48009251416c750ac9d3</td>\n",
       "      <td>1.0</td>\n",
       "      <td>17647.0</td>\n",
       "      <td>Michelle Rodriguez</td>\n",
       "      <td>4.0</td>\n",
       "    </tr>\n",
       "  </tbody>\n",
       "</table>\n",
       "</div>"
      ],
      "text/plain": [
       "   popularity     revenue      profit  popularity_scaled  cast_id  \\\n",
       "0  150.437577  2787965087  2550965087           1.718145    242.0   \n",
       "1  150.437577  2787965087  2550965087           1.718145      3.0   \n",
       "2  150.437577  2787965087  2550965087           1.718145     25.0   \n",
       "3  150.437577  2787965087  2550965087           1.718145      4.0   \n",
       "4  150.437577  2787965087  2550965087           1.718145      5.0   \n",
       "\n",
       "             character                 credit_id  gender       id  \\\n",
       "0           Jake Sully  5602a8a7c3a3685532001c9a     2.0  65731.0   \n",
       "1              Neytiri  52fe48009251416c750ac9cb     1.0   8691.0   \n",
       "2  Dr. Grace Augustine  52fe48009251416c750aca39     1.0  10205.0   \n",
       "3        Col. Quaritch  52fe48009251416c750ac9cf     2.0  32747.0   \n",
       "4         Trudy Chacon  52fe48009251416c750ac9d3     1.0  17647.0   \n",
       "\n",
       "                 name  order  \n",
       "0     Sam Worthington    0.0  \n",
       "1         Zoe Saldana    1.0  \n",
       "2    Sigourney Weaver    2.0  \n",
       "3        Stephen Lang    3.0  \n",
       "4  Michelle Rodriguez    4.0  "
      ]
     },
     "execution_count": 69,
     "metadata": {},
     "output_type": "execute_result"
    }
   ],
   "source": [
    "df_actor = parse_list_of_dicts(df_actor,'cast')\n",
    "df_actor.head()"
   ]
  },
  {
   "cell_type": "code",
   "execution_count": 70,
   "id": "0720c845-eeeb-4c66-864d-39ce89feb1b4",
   "metadata": {},
   "outputs": [
    {
     "data": {
      "text/plain": [
       "name\n",
       "Samuel L. Jackson    67\n",
       "Robert De Niro       57\n",
       "Bruce Willis         51\n",
       "Matt Damon           48\n",
       "Morgan Freeman       46\n",
       "                     ..\n",
       "Laramie Eppler        1\n",
       "Dustin Allen          1\n",
       "John Howell           1\n",
       "Kim-Maree Penn        1\n",
       "Bill D'Elia           1\n",
       "Name: count, Length: 54201, dtype: int64"
      ]
     },
     "execution_count": 70,
     "metadata": {},
     "output_type": "execute_result"
    }
   ],
   "source": [
    "df_actor['name'].value_counts()"
   ]
  },
  {
   "cell_type": "code",
   "execution_count": 71,
   "id": "543d90ce-e71f-458e-814d-8cecd23fc500",
   "metadata": {},
   "outputs": [
    {
     "data": {
      "text/html": [
       "<div>\n",
       "<style scoped>\n",
       "    .dataframe tbody tr th:only-of-type {\n",
       "        vertical-align: middle;\n",
       "    }\n",
       "\n",
       "    .dataframe tbody tr th {\n",
       "        vertical-align: top;\n",
       "    }\n",
       "\n",
       "    .dataframe thead th {\n",
       "        text-align: right;\n",
       "    }\n",
       "</style>\n",
       "<table border=\"1\" class=\"dataframe\">\n",
       "  <thead>\n",
       "    <tr style=\"text-align: right;\">\n",
       "      <th></th>\n",
       "      <th>popularity_scaled</th>\n",
       "      <th>revenue</th>\n",
       "    </tr>\n",
       "    <tr>\n",
       "      <th>name</th>\n",
       "      <th></th>\n",
       "      <th></th>\n",
       "    </tr>\n",
       "  </thead>\n",
       "  <tbody>\n",
       "    <tr>\n",
       "      <th>Stan Lee</th>\n",
       "      <td>35.961996</td>\n",
       "      <td>17364063582</td>\n",
       "    </tr>\n",
       "    <tr>\n",
       "      <th>Samuel L. Jackson</th>\n",
       "      <td>27.330955</td>\n",
       "      <td>14806065788</td>\n",
       "    </tr>\n",
       "    <tr>\n",
       "      <th>Frank Welker</th>\n",
       "      <td>16.173083</td>\n",
       "      <td>11614837160</td>\n",
       "    </tr>\n",
       "    <tr>\n",
       "      <th>John Ratzenberger</th>\n",
       "      <td>17.567273</td>\n",
       "      <td>11038044745</td>\n",
       "    </tr>\n",
       "    <tr>\n",
       "      <th>Hugo Weaving</th>\n",
       "      <td>15.078187</td>\n",
       "      <td>10822190781</td>\n",
       "    </tr>\n",
       "  </tbody>\n",
       "</table>\n",
       "</div>"
      ],
      "text/plain": [
       "                   popularity_scaled      revenue\n",
       "name                                             \n",
       "Stan Lee                   35.961996  17364063582\n",
       "Samuel L. Jackson          27.330955  14806065788\n",
       "Frank Welker               16.173083  11614837160\n",
       "John Ratzenberger          17.567273  11038044745\n",
       "Hugo Weaving               15.078187  10822190781"
      ]
     },
     "execution_count": 71,
     "metadata": {},
     "output_type": "execute_result"
    }
   ],
   "source": [
    "#sort by revenue and popularity\n",
    "\n",
    "df_actor.groupby('name')[['popularity_scaled','revenue']].sum().sort_values('revenue',ascending=False).head(5)"
   ]
  },
  {
   "cell_type": "markdown",
   "id": "1396e1a3-f8c3-4957-b17f-40b0fc39825b",
   "metadata": {},
   "source": [
    "Actors with highest popularity and revenue are Stan Lee, Samuel L. Jackson and Frank Welker"
   ]
  },
  {
   "cell_type": "markdown",
   "id": "8dd3c295-6c90-4f7e-a9df-150fbadac2ce",
   "metadata": {},
   "source": [
    "### Q5) Which year was the highest revenue and profit collection?  "
   ]
  },
  {
   "cell_type": "code",
   "execution_count": 74,
   "id": "dff2b216-8741-4fed-84a9-2579e9c723e7",
   "metadata": {},
   "outputs": [
    {
     "data": {
      "text/html": [
       "<div>\n",
       "<style scoped>\n",
       "    .dataframe tbody tr th:only-of-type {\n",
       "        vertical-align: middle;\n",
       "    }\n",
       "\n",
       "    .dataframe tbody tr th {\n",
       "        vertical-align: top;\n",
       "    }\n",
       "\n",
       "    .dataframe thead th {\n",
       "        text-align: right;\n",
       "    }\n",
       "</style>\n",
       "<table border=\"1\" class=\"dataframe\">\n",
       "  <thead>\n",
       "    <tr style=\"text-align: right;\">\n",
       "      <th></th>\n",
       "      <th>budget</th>\n",
       "      <th>genres</th>\n",
       "      <th>id</th>\n",
       "      <th>keywords</th>\n",
       "      <th>original_language</th>\n",
       "      <th>popularity</th>\n",
       "      <th>production_companies</th>\n",
       "      <th>release_date</th>\n",
       "      <th>revenue</th>\n",
       "      <th>runtime</th>\n",
       "      <th>title_x</th>\n",
       "      <th>vote_average</th>\n",
       "      <th>vote_count</th>\n",
       "      <th>cast</th>\n",
       "      <th>crew</th>\n",
       "      <th>profit</th>\n",
       "      <th>profit_margin</th>\n",
       "      <th>profit_margin_fixed</th>\n",
       "    </tr>\n",
       "  </thead>\n",
       "  <tbody>\n",
       "    <tr>\n",
       "      <th>0</th>\n",
       "      <td>237000000</td>\n",
       "      <td>[{\"id\": 28, \"name\": \"Action\"}, {\"id\": 12, \"nam...</td>\n",
       "      <td>19995</td>\n",
       "      <td>[{\"id\": 1463, \"name\": \"culture clash\"}, {\"id\":...</td>\n",
       "      <td>en</td>\n",
       "      <td>150.437577</td>\n",
       "      <td>[{\"name\": \"Ingenious Film Partners\", \"id\": 289...</td>\n",
       "      <td>2009-12-10</td>\n",
       "      <td>2787965087</td>\n",
       "      <td>162.0</td>\n",
       "      <td>Avatar</td>\n",
       "      <td>7.2</td>\n",
       "      <td>11800</td>\n",
       "      <td>[{\"cast_id\": 242, \"character\": \"Jake Sully\", \"...</td>\n",
       "      <td>[{\"credit_id\": \"52fe48009251416c750aca23\", \"de...</td>\n",
       "      <td>2550965087</td>\n",
       "      <td>91.499176</td>\n",
       "      <td>91.499176</td>\n",
       "    </tr>\n",
       "  </tbody>\n",
       "</table>\n",
       "</div>"
      ],
      "text/plain": [
       "      budget                                             genres     id  \\\n",
       "0  237000000  [{\"id\": 28, \"name\": \"Action\"}, {\"id\": 12, \"nam...  19995   \n",
       "\n",
       "                                            keywords original_language  \\\n",
       "0  [{\"id\": 1463, \"name\": \"culture clash\"}, {\"id\":...                en   \n",
       "\n",
       "   popularity                               production_companies release_date  \\\n",
       "0  150.437577  [{\"name\": \"Ingenious Film Partners\", \"id\": 289...   2009-12-10   \n",
       "\n",
       "      revenue  runtime title_x  vote_average  vote_count  \\\n",
       "0  2787965087    162.0  Avatar           7.2       11800   \n",
       "\n",
       "                                                cast  \\\n",
       "0  [{\"cast_id\": 242, \"character\": \"Jake Sully\", \"...   \n",
       "\n",
       "                                                crew      profit  \\\n",
       "0  [{\"credit_id\": \"52fe48009251416c750aca23\", \"de...  2550965087   \n",
       "\n",
       "   profit_margin  profit_margin_fixed  \n",
       "0      91.499176            91.499176  "
      ]
     },
     "execution_count": 74,
     "metadata": {},
     "output_type": "execute_result"
    }
   ],
   "source": [
    "df.sort_values('revenue',ascending=False).head(1)"
   ]
  },
  {
   "cell_type": "code",
   "execution_count": 75,
   "id": "dd7af705-5d95-42ea-bfb3-1b02fe611e30",
   "metadata": {},
   "outputs": [
    {
     "data": {
      "text/html": [
       "<div>\n",
       "<style scoped>\n",
       "    .dataframe tbody tr th:only-of-type {\n",
       "        vertical-align: middle;\n",
       "    }\n",
       "\n",
       "    .dataframe tbody tr th {\n",
       "        vertical-align: top;\n",
       "    }\n",
       "\n",
       "    .dataframe thead th {\n",
       "        text-align: right;\n",
       "    }\n",
       "</style>\n",
       "<table border=\"1\" class=\"dataframe\">\n",
       "  <thead>\n",
       "    <tr style=\"text-align: right;\">\n",
       "      <th></th>\n",
       "      <th>budget</th>\n",
       "      <th>genres</th>\n",
       "      <th>id</th>\n",
       "      <th>keywords</th>\n",
       "      <th>original_language</th>\n",
       "      <th>popularity</th>\n",
       "      <th>production_companies</th>\n",
       "      <th>release_date</th>\n",
       "      <th>revenue</th>\n",
       "      <th>runtime</th>\n",
       "      <th>title_x</th>\n",
       "      <th>vote_average</th>\n",
       "      <th>vote_count</th>\n",
       "      <th>cast</th>\n",
       "      <th>crew</th>\n",
       "      <th>profit</th>\n",
       "      <th>profit_margin</th>\n",
       "      <th>profit_margin_fixed</th>\n",
       "    </tr>\n",
       "  </thead>\n",
       "  <tbody>\n",
       "    <tr>\n",
       "      <th>0</th>\n",
       "      <td>237000000</td>\n",
       "      <td>[{\"id\": 28, \"name\": \"Action\"}, {\"id\": 12, \"nam...</td>\n",
       "      <td>19995</td>\n",
       "      <td>[{\"id\": 1463, \"name\": \"culture clash\"}, {\"id\":...</td>\n",
       "      <td>en</td>\n",
       "      <td>150.437577</td>\n",
       "      <td>[{\"name\": \"Ingenious Film Partners\", \"id\": 289...</td>\n",
       "      <td>2009-12-10</td>\n",
       "      <td>2787965087</td>\n",
       "      <td>162.0</td>\n",
       "      <td>Avatar</td>\n",
       "      <td>7.2</td>\n",
       "      <td>11800</td>\n",
       "      <td>[{\"cast_id\": 242, \"character\": \"Jake Sully\", \"...</td>\n",
       "      <td>[{\"credit_id\": \"52fe48009251416c750aca23\", \"de...</td>\n",
       "      <td>2550965087</td>\n",
       "      <td>91.499176</td>\n",
       "      <td>91.499176</td>\n",
       "    </tr>\n",
       "  </tbody>\n",
       "</table>\n",
       "</div>"
      ],
      "text/plain": [
       "      budget                                             genres     id  \\\n",
       "0  237000000  [{\"id\": 28, \"name\": \"Action\"}, {\"id\": 12, \"nam...  19995   \n",
       "\n",
       "                                            keywords original_language  \\\n",
       "0  [{\"id\": 1463, \"name\": \"culture clash\"}, {\"id\":...                en   \n",
       "\n",
       "   popularity                               production_companies release_date  \\\n",
       "0  150.437577  [{\"name\": \"Ingenious Film Partners\", \"id\": 289...   2009-12-10   \n",
       "\n",
       "      revenue  runtime title_x  vote_average  vote_count  \\\n",
       "0  2787965087    162.0  Avatar           7.2       11800   \n",
       "\n",
       "                                                cast  \\\n",
       "0  [{\"cast_id\": 242, \"character\": \"Jake Sully\", \"...   \n",
       "\n",
       "                                                crew      profit  \\\n",
       "0  [{\"credit_id\": \"52fe48009251416c750aca23\", \"de...  2550965087   \n",
       "\n",
       "   profit_margin  profit_margin_fixed  \n",
       "0      91.499176            91.499176  "
      ]
     },
     "execution_count": 75,
     "metadata": {},
     "output_type": "execute_result"
    }
   ],
   "source": [
    "df.sort_values('profit',ascending=False).head(1)"
   ]
  },
  {
   "cell_type": "markdown",
   "id": "e21b4a5e-f546-44d0-b719-2d42cd56ee6d",
   "metadata": {},
   "source": [
    "In 2009 Avatar was the movie which had the highest revenue and profit."
   ]
  },
  {
   "cell_type": "markdown",
   "id": "a0fd48ac-128d-42fa-b65f-fde33e0ac829",
   "metadata": {},
   "source": [
    "### Q6) Do popularity affect movie revenue?"
   ]
  },
  {
   "cell_type": "markdown",
   "id": "bb63b964-dc4d-4d77-bdc0-7dd7d4eaaaff",
   "metadata": {},
   "source": [
    "To assess this relationship, we need following columns\n",
    "- popularity\n",
    "- revenue\n",
    "- profit\n",
    "- profit margin"
   ]
  },
  {
   "cell_type": "code",
   "execution_count": 79,
   "id": "f14395c8-5d48-4703-8172-2679eb3fbedf",
   "metadata": {},
   "outputs": [
    {
     "data": {
      "text/html": [
       "<div>\n",
       "<style scoped>\n",
       "    .dataframe tbody tr th:only-of-type {\n",
       "        vertical-align: middle;\n",
       "    }\n",
       "\n",
       "    .dataframe tbody tr th {\n",
       "        vertical-align: top;\n",
       "    }\n",
       "\n",
       "    .dataframe thead th {\n",
       "        text-align: right;\n",
       "    }\n",
       "</style>\n",
       "<table border=\"1\" class=\"dataframe\">\n",
       "  <thead>\n",
       "    <tr style=\"text-align: right;\">\n",
       "      <th></th>\n",
       "      <th>title_x</th>\n",
       "      <th>popularity</th>\n",
       "      <th>revenue</th>\n",
       "      <th>profit</th>\n",
       "      <th>profit_margin</th>\n",
       "      <th>popularity_scaled</th>\n",
       "    </tr>\n",
       "  </thead>\n",
       "  <tbody>\n",
       "    <tr>\n",
       "      <th>0</th>\n",
       "      <td>Avatar</td>\n",
       "      <td>150.437577</td>\n",
       "      <td>2787965087</td>\n",
       "      <td>2550965087</td>\n",
       "      <td>91.499176</td>\n",
       "      <td>1.718145</td>\n",
       "    </tr>\n",
       "    <tr>\n",
       "      <th>1</th>\n",
       "      <td>Pirates of the Caribbean: At World's End</td>\n",
       "      <td>139.082615</td>\n",
       "      <td>961000000</td>\n",
       "      <td>661000000</td>\n",
       "      <td>68.782518</td>\n",
       "      <td>1.588460</td>\n",
       "    </tr>\n",
       "    <tr>\n",
       "      <th>2</th>\n",
       "      <td>Spectre</td>\n",
       "      <td>107.376788</td>\n",
       "      <td>880674609</td>\n",
       "      <td>635674609</td>\n",
       "      <td>72.180417</td>\n",
       "      <td>1.226349</td>\n",
       "    </tr>\n",
       "  </tbody>\n",
       "</table>\n",
       "</div>"
      ],
      "text/plain": [
       "                                    title_x  popularity     revenue  \\\n",
       "0                                    Avatar  150.437577  2787965087   \n",
       "1  Pirates of the Caribbean: At World's End  139.082615   961000000   \n",
       "2                                   Spectre  107.376788   880674609   \n",
       "\n",
       "       profit  profit_margin  popularity_scaled  \n",
       "0  2550965087      91.499176           1.718145  \n",
       "1   661000000      68.782518           1.588460  \n",
       "2   635674609      72.180417           1.226349  "
      ]
     },
     "execution_count": 79,
     "metadata": {},
     "output_type": "execute_result"
    }
   ],
   "source": [
    "#We have created a seperate dataframe for popularity to make changes in this controlled dataframe only\n",
    "\n",
    "columns_to_assign = ['title_x','popularity', 'revenue', 'profit', 'profit_margin']\n",
    "df_popularity = df[columns_to_assign]\n",
    "df_popularity['popularity_scaled'] = (df_popularity['popularity'] - df_popularity['popularity'].min()) * (10 - 0) / (df_popularity['popularity'].max() - df_popularity['popularity'].min())\n",
    "df_popularity.head(3)"
   ]
  },
  {
   "cell_type": "code",
   "execution_count": 80,
   "id": "99ae3d96-10fd-4c5d-8f7e-6f9bac6f9570",
   "metadata": {},
   "outputs": [
    {
     "data": {
      "image/png": "[encoded data removed]",
      "text/plain": [
       "<Figure size 800x500 with 1 Axes>"
      ]
     },
     "metadata": {},
     "output_type": "display_data"
    }
   ],
   "source": [
    "corr = df_popularity.corr(method='pearson', numeric_only=True)\n",
    "mask = np.triu(np.ones_like(corr)) #this is to define the treatment of missing values\n",
    "fig = plt.subplots(figsize=(8,5))\n",
    "sns.heatmap(corr,annot=True,fmt='.2f',mask=mask,cbar=None,linewidth=0.5)\n",
    "plt.show()"
   ]
  },
  {
   "cell_type": "code",
   "execution_count": 81,
   "id": "6a098dd8-705b-4960-91b5-1254fe9eb216",
   "metadata": {},
   "outputs": [
    {
     "data": {
      "text/plain": [
       "Text(0, 0.5, 'Revenue (100 million)')"
      ]
     },
     "execution_count": 81,
     "metadata": {},
     "output_type": "execute_result"
    },
    {
     "data": {
      "image/png": "[encoded data removed]",
      "text/plain": [
       "<Figure size 640x480 with 1 Axes>"
      ]
     },
     "metadata": {},
     "output_type": "display_data"
    }
   ],
   "source": [
    "# Popularity VS Revenue\n",
    "\n",
    "df_popularity.plot(y='revenue',x='popularity_scaled',kind='scatter')\n",
    "\n",
    "plt.title(\"Scatter Plot of TMDB Movie Budget vs. Revenue\")\n",
    "plt.xlabel(\"Popularity\")\n",
    "plt.ylabel(\"Revenue (100 million)\")"
   ]
  },
  {
   "cell_type": "code",
   "execution_count": 82,
   "id": "1811c09c-3174-48ca-811e-a3b8b2268310",
   "metadata": {},
   "outputs": [
    {
     "data": {
      "text/plain": [
       "Text(0, 0.5, 'Revenue (100 million)')"
      ]
     },
     "execution_count": 82,
     "metadata": {},
     "output_type": "execute_result"
    },
    {
     "data": {
      "image/png": "[encoded data removed]",
      "text/plain": [
       "<Figure size 640x480 with 1 Axes>"
      ]
     },
     "metadata": {},
     "output_type": "display_data"
    }
   ],
   "source": [
    "# Popularity VS Profit\n",
    "\n",
    "df_popularity.plot(y='profit',x='popularity_scaled',kind='scatter')\n",
    "\n",
    "plt.title(\"Scatter Plot of TMDB Movie Budget vs. Revenue\")\n",
    "plt.xlabel(\"Popularity\")\n",
    "plt.ylabel(\"Revenue (100 million)\")"
   ]
  },
  {
   "cell_type": "markdown",
   "id": "2c13e186-5b7b-4413-8193-d72b76521a08",
   "metadata": {},
   "source": [
    "## Step 5: Answers to Questions"
   ]
  },
  {
   "cell_type": "markdown",
   "id": "4ece59b6-4367-4bf8-b15a-11684f7fb368",
   "metadata": {},
   "source": [
    "Q1) What is the relationship of budget and revenue?  \n",
    "A1) In most cases, a higher budget does result in higher revenue and profit. However, the analysis shows that there are outliers where a high budget results in losses."
   ]
  },
  {
   "cell_type": "markdown",
   "id": "2d9daaf1-9329-498b-88b2-65dc73e1c002",
   "metadata": {},
   "source": [
    "Q2) Which genres are popular with people?   \n",
    "A2) Adventure, Science Fiction and Fantasy are the most popular genres."
   ]
  },
  {
   "cell_type": "markdown",
   "id": "9aaeb97e-36f9-49dc-ab72-226d668f7162",
   "metadata": {},
   "source": [
    "Q3) Which director has the highest revenue under his/her belt?  \n",
    "A3) Jennifer Lee"
   ]
  },
  {
   "cell_type": "markdown",
   "id": "c80d60bc-384f-4dff-9334-73a67202a8cb",
   "metadata": {},
   "source": [
    "Q4) Which is the most popular and highest revenue grossing actor?  \n",
    "A4) Stan Lee"
   ]
  },
  {
   "cell_type": "markdown",
   "id": "50e8c945-a2e1-47e3-9d21-8ea58ce3b96d",
   "metadata": {},
   "source": [
    "Q5) Which year was the highest revenue and profit collection?  \n",
    "A5) 2009, Avatar"
   ]
  },
  {
   "cell_type": "markdown",
   "id": "d27dae51-a92d-40e6-a729-a5eb0ab42cff",
   "metadata": {},
   "source": [
    "Q6) Do popularity affect movie revenue and profit?  \n",
    "A6) Yes, they have a correlation of 0.64 and 0.62 respectively which indicates a strong positive relation with popularity"
   ]
  },
  {
   "cell_type": "code",
   "execution_count": null,
   "id": "cf733ee3-35cc-4b53-99a4-c3ef418f46eb",
   "metadata": {},
   "outputs": [],
   "source": []
  }
 ],
 "metadata": {
  "kernelspec": {
   "display_name": "Python [conda env:base] *",
   "language": "python",
   "name": "conda-base-py"
  },
  "language_info": {
   "codemirror_mode": {
    "name": "ipython",
    "version": 3
   },
   "file_extension": ".py",
   "mimetype": "text/x-python",
   "name": "python",
   "nbconvert_exporter": "python",
   "pygments_lexer": "ipython3",
   "version": "3.12.7"
  }
 },
 "nbformat": 4,
 "nbformat_minor": 5
}
